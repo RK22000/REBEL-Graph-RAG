{
 "cells": [
  {
   "cell_type": "code",
   "execution_count": 4,
   "metadata": {},
   "outputs": [],
   "source": []
  },
  {
   "cell_type": "code",
   "execution_count": 6,
   "metadata": {},
   "outputs": [
    {
     "data": {
      "text/plain": [
       "array(['Mumbai', 'Maharashtra', 'Bengaluru', 'Karnataka', 'Chennai',\n",
       "       'Tamil Nadu', 'Thiruvananthapuram', 'Kerala', 'Amaravati',\n",
       "       'Andhra Pradesh', 'Lucknow', 'Uttar Pradesh', 'Patna', 'Bihar',\n",
       "       'Kolkata', 'West Bengal', 'Gandhinagar', 'Gujarat', 'Jaipur',\n",
       "       'Rajasthan', 'Bhopal', 'Madhya Pradesh', 'Chandigarh', 'Punjab',\n",
       "       'Haryana', 'Bhubaneswar', 'Odisha', 'Dispur', 'Assam', 'Ranchi',\n",
       "       'Jharkhand', 'Raipur', 'Chhattisgarh', 'Dehradun', 'Uttarakhand',\n",
       "       'Shimla', 'Himachal Pradesh', 'Panaji', 'Goa', 'Marathi',\n",
       "       'Kannada', 'Tamil', 'Malayalam', 'Telugu', 'Hindi', 'Bengali',\n",
       "       'Gujarati', 'Punjabi', 'Odia', 'Assamese', 'Konkani', 'Delhi',\n",
       "       'Jammu and Kashmir', 'Rath Yatra', 'Ugadi', 'Hareli', 'Navratri',\n",
       "       'Dasara', 'Pongal', 'Baisakhi', 'Durga Puja', 'Teej', 'Christmas',\n",
       "       'Pakistan', 'China', 'Nepal', 'Bhutan', 'Bangladesh', 'Myanmar',\n",
       "       'Telangana', 'Arunachal Pradesh', 'Nagaland', 'Manipur', 'Mizoram',\n",
       "       'Tripura', 'Meghalaya', 'Vada Pav', 'Pav Bhaji', 'Puran Poli',\n",
       "       'Rasgulla', 'Macher Jhol', 'Mishti Doi', 'Dosa', 'Idli', 'Dhokla',\n",
       "       'Thepla', 'Khandvi', 'Kebabs', 'Biryani', 'Jalebi', 'Appam',\n",
       "       'Puttu', 'Karimeen Pollichathu', 'Makki di Roti', 'Sarson da Saag',\n",
       "       'Butter Chicken', 'Dal Baati Churma', 'Ghewar', 'Laal Maas',\n",
       "       'Lavani', 'Koli', 'Gaudiya Nritya', 'Bharatanatyam', 'Karakattam',\n",
       "       'Garba', 'Dandiya', 'Kathak', 'Raslila', 'Kathakali',\n",
       "       'Mohiniyattam', 'Bhangra', 'Giddha', 'Ghoomar', 'Kalbelia',\n",
       "       'Indian Independence', '1920', 'Mahatma Gandhi', 'Ahmedabad',\n",
       "       'Non-Cooperation Movement', '1942', 'Quit India Movement', '1905',\n",
       "       'Bal Gangadhar Tilak', 'Swadeshi Movement', '1930', 'Sabarmati',\n",
       "       'Civil Disobedience Movement', '1917', 'Champaran',\n",
       "       'Champaran Satyagraha', '1918', 'Kheda', 'Kheda Satyagraha',\n",
       "       'Dandi', 'Salt March', '1925', 'Ram Prasad Bismil', 'Kakori',\n",
       "       'Kakori Conspiracy', '1919', 'General Dyer', 'Amritsar',\n",
       "       'Jallianwala Bagh Massacre', '1922', 'Local Protesters',\n",
       "       'Chauri Chaura', 'Chauri Chaura Incident', 'Indian National Army',\n",
       "       '1945', 'Andaman and Nicobar', 'Freedom Fighters', '1906',\n",
       "       'British Raj', '1921', '1924', '1931', 'Governors-General', '1773',\n",
       "       'First Governor-General', 'Calcutta', '1786',\n",
       "       'Permanent Settlement', '1798', 'Subsidiary Alliance', '1828',\n",
       "       'Abolition of Sati', '1848', 'Doctrine of Lapse', '1856',\n",
       "       'First Viceroy', '1899', 'Partition of Bengal', '1947',\n",
       "       'Last Viceroy', 'New Delhi', 'Military Officers', '1757',\n",
       "       'Battle of Plassey', 'Bengal', '1857', 'Indian Rebellion',\n",
       "       'Jallianwala Bagh', '1902', 'Army Reforms', 'Administrators',\n",
       "       '1834', 'English Education', '1854', \"Wood's Dispatch\", 'London',\n",
       "       '1864', 'Punjab Administration', 'Lahore', '1830',\n",
       "       'Thuggee Suppression', 'Central India', '1600', 'Trading Company',\n",
       "       '1858', 'Administrative Service', '1861', 'Police Force',\n",
       "       'Military Force', '1817', 'Education', '1853', 'Transportation',\n",
       "       'Bombay', '1851', 'Communication', '1793', 'Land Revenue',\n",
       "       'Annexation Policy', 'India', 'Military Policy',\n",
       "       'Political Policy', '1883', 'Judicial Reform', 'Repressive Law',\n",
       "       'Constitutional Reform', 'Legislative Reform', 'Surat', '1765',\n",
       "       '1764', '1928', '1946', '1911', 'British Rule', 'British',\n",
       "       'Mughal Empire', 'Battle of Panipat', 'Ibrahim Lodi', '1526',\n",
       "       '1530', 'Humayun', 'Babur', 'Shershah Suri', 'Persia', '1555',\n",
       "       'Akbar', '1556', 'Second Battle of Panipat', 'Hemu', 'Din-i Ilahi',\n",
       "       'Fatehpur Sikri', 'Jahangir', 'Mehrunissa', 'Nur Jahan',\n",
       "       'painting', 'Shah Jahan', 'Taj Mahal', 'Red Fort', 'Jama Masjid',\n",
       "       'Aurangzeb', 'Deccan', 'Jizya tax', '1707', 'Mughal ruler',\n",
       "       'Babur and Ibrahim Lodi', 'Foundation of Mughal Empire', 'Panipat',\n",
       "       'Babur and Rana Sanga', \"Babur's control over North India\",\n",
       "       'Babur and Afghans', 'Humayun and Sher Shah Suri',\n",
       "       'Sher Shah Suri', \"Humayun's exile\", 'Akbar and Hemu',\n",
       "       \"Akbar's throne\", 'Akbar and Maharana Pratap',\n",
       "       'Man Singh for Akbar', nan, 'Rajput resistance',\n",
       "       'Aurangzeb and Dara Shikoh', 'War of Succession',\n",
       "       'Aurangzeb and Shuja', \"Aurangzeb's control over Mughal throne\",\n",
       "       'Aurangzeb and Marathas', 'Maratha guerrilla tactics',\n",
       "       'Marathas and Mughals', 'Marathas', 'Mughal supremacy',\n",
       "       'Delhi in 1739', 'Mughal army'], dtype=object)"
      ]
     },
     "execution_count": 6,
     "metadata": {},
     "output_type": "execute_result"
    }
   ],
   "source": [
    "import pandas as pd\n",
    "\n",
    "df = pd.read_csv('india_kb.csv')\n",
    "\n",
    "df[\"tail\"].unique()"
   ]
  },
  {
   "cell_type": "code",
   "execution_count": 2,
   "metadata": {},
   "outputs": [],
   "source": [
    "from rebel.rebel import make_kb\n",
    "import pandas as pd\n",
    "text = \"Napoleon Bonaparte (born Napoleone di Buonaparte; 15 August 1769 – 5 \" \\\n",
    "\"May 1821), and later known by his regnal name Napoleon I, was a French military \" \\\n",
    "\"and political leader who rose to prominence during the French Revolution and led \" \\\n",
    "\"several successful campaigns during the Revolutionary Wars. He was the de facto \" \\\n",
    "\"leader of the French Republic as First Consul from 1799 to 1804. As Napoleon I, \" \\\n",
    "\"he was Emperor of the French from 1804 until 1814 and again in 1815. Napoleon's \" \\\n",
    "\"political and cultural legacy has endured, and he has been one of the most \" \\\n",
    "\"celebrated and controversial leaders in world history.\""
   ]
  },
  {
   "cell_type": "code",
   "execution_count": 3,
   "metadata": {},
   "outputs": [
    {
     "name": "stdout",
     "output_type": "stream",
     "text": [
      "Napoleon Bonaparte (born Napoleone di Buonaparte; 15 August 1769 – 5 May 1821), and later known by his regnal name Napoleon I, was a French military and political leader who rose to prominence during the French Revolution and led several successful campaigns during the Revolutionary Wars. He was the de facto leader of the French Republic as First Consul from 1799 to 1804. As Napoleon I, he was Emperor of the French from 1804 until 1814 and again in 1815. Napoleon's political and cultural legacy has endured, and he has been one of the most celebrated and controversial leaders in world history.\n"
     ]
    }
   ],
   "source": [
    "print(text)"
   ]
  },
  {
   "cell_type": "code",
   "execution_count": 5,
   "metadata": {},
   "outputs": [
    {
     "name": "stdout",
     "output_type": "stream",
     "text": [
      "{'max_length': 1024, 'length_penalty': 0, 'num_beams': 5, 'num_return_sequences': 5}\n"
     ]
    }
   ],
   "source": [
    "df = pd.DataFrame(make_kb(text, max_length=1024, num_beams=5, num_return_sequences=5), columns=['head', 'relation', 'tail'])"
   ]
  },
  {
   "cell_type": "code",
   "execution_count": 7,
   "metadata": {},
   "outputs": [
    {
     "data": {
      "text/html": [
       "<div>\n",
       "<style scoped>\n",
       "    .dataframe tbody tr th:only-of-type {\n",
       "        vertical-align: middle;\n",
       "    }\n",
       "\n",
       "    .dataframe tbody tr th {\n",
       "        vertical-align: top;\n",
       "    }\n",
       "\n",
       "    .dataframe thead th {\n",
       "        text-align: right;\n",
       "    }\n",
       "</style>\n",
       "<table border=\"1\" class=\"dataframe\">\n",
       "  <thead>\n",
       "    <tr style=\"text-align: right;\">\n",
       "      <th></th>\n",
       "      <th>head</th>\n",
       "      <th>relation</th>\n",
       "      <th>tail</th>\n",
       "    </tr>\n",
       "  </thead>\n",
       "  <tbody>\n",
       "    <tr>\n",
       "      <th>0</th>\n",
       "      <td>Revolutionary Wars</td>\n",
       "      <td>participant</td>\n",
       "      <td>Napoleon Bonaparte</td>\n",
       "    </tr>\n",
       "    <tr>\n",
       "      <th>1</th>\n",
       "      <td>Napoleon Bonaparte</td>\n",
       "      <td>participant in</td>\n",
       "      <td>French Revolution</td>\n",
       "    </tr>\n",
       "    <tr>\n",
       "      <th>2</th>\n",
       "      <td>Napoleon Bonaparte</td>\n",
       "      <td>conflict</td>\n",
       "      <td>Revolutionary Wars</td>\n",
       "    </tr>\n",
       "    <tr>\n",
       "      <th>3</th>\n",
       "      <td>French Revolution</td>\n",
       "      <td>participant</td>\n",
       "      <td>Napoleon Bonaparte</td>\n",
       "    </tr>\n",
       "    <tr>\n",
       "      <th>4</th>\n",
       "      <td>Napoleon Bonaparte</td>\n",
       "      <td>date of birth</td>\n",
       "      <td>15 August 1769</td>\n",
       "    </tr>\n",
       "    <tr>\n",
       "      <th>5</th>\n",
       "      <td>Revolutionary Wars</td>\n",
       "      <td>part of</td>\n",
       "      <td>French Revolution</td>\n",
       "    </tr>\n",
       "    <tr>\n",
       "      <th>6</th>\n",
       "      <td>Napoleon Bonaparte</td>\n",
       "      <td>date of death</td>\n",
       "      <td>5 May 1821</td>\n",
       "    </tr>\n",
       "  </tbody>\n",
       "</table>\n",
       "</div>"
      ],
      "text/plain": [
       "                 head        relation                tail\n",
       "0  Revolutionary Wars     participant  Napoleon Bonaparte\n",
       "1  Napoleon Bonaparte  participant in   French Revolution\n",
       "2  Napoleon Bonaparte        conflict  Revolutionary Wars\n",
       "3   French Revolution     participant  Napoleon Bonaparte\n",
       "4  Napoleon Bonaparte   date of birth      15 August 1769\n",
       "5  Revolutionary Wars         part of   French Revolution\n",
       "6  Napoleon Bonaparte   date of death          5 May 1821"
      ]
     },
     "execution_count": 7,
     "metadata": {},
     "output_type": "execute_result"
    }
   ],
   "source": [
    "df"
   ]
  }
 ],
 "metadata": {
  "kernelspec": {
   "display_name": "venv",
   "language": "python",
   "name": "python3"
  },
  "language_info": {
   "codemirror_mode": {
    "name": "ipython",
    "version": 3
   },
   "file_extension": ".py",
   "mimetype": "text/x-python",
   "name": "python",
   "nbconvert_exporter": "python",
   "pygments_lexer": "ipython3",
   "version": "3.7.7"
  }
 },
 "nbformat": 4,
 "nbformat_minor": 2
}
