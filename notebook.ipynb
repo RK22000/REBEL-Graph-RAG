{
 "cells": [
  {
   "cell_type": "markdown",
   "metadata": {},
   "source": [
    "# Sketchbook"
   ]
  },
  {
   "cell_type": "markdown",
   "metadata": {},
   "source": [
    "## GPU acceleration of REBEL"
   ]
  },
  {
   "cell_type": "code",
   "execution_count": 1,
   "metadata": {},
   "outputs": [
    {
     "data": {
      "text/plain": [
       "True"
      ]
     },
     "execution_count": 1,
     "metadata": {},
     "output_type": "execute_result"
    }
   ],
   "source": [
    "import torch\n",
    "torch.cuda.is_available()"
   ]
  },
  {
   "cell_type": "code",
   "execution_count": 2,
   "metadata": {},
   "outputs": [],
   "source": [
    "with open(\"data/india_scraped_d0b1.txt\", 'r') as f:\n",
    "\n",
    "# with open(\"data/india_scraped.txt\", 'r') as f:\n",
    "    txt = f.read()"
   ]
  },
  {
   "cell_type": "code",
   "execution_count": 3,
   "metadata": {},
   "outputs": [
    {
     "name": "stdout",
     "output_type": "stream",
     "text": [
      "[\"TITLE: india\\nIndia, officially the Republic of India, is a country in South Asia.  It is the seventh-largest country by area; the most populous country from June 2023 onwards; and since its independence in 1947, the world's most populous democracy. Bounded by the Indian Ocean on the south, the Arabian Sea on the southwest, and the Bay of Bengal on the southeast, it shares land borders with Pakistan to the west; China, Nepal, and Bhutan to the north; and Bangladesh and Myanmar to the east. In the Indian Ocean, India is near Sri Lanka and the Maldives; its Andaman and Nicobar Islands share a maritime border with Thailand, Myanmar, and Indonesia.\\nModern humans arrived on the Indian subcontinent from Africa no later than 55,000 years ago. Their long occupation, predominantly in isolation as hunter-gatherers, has made the region highly diverse, second only to Africa in human genetic diversity. Settled life emerged on the subcontinent in the western margins of the Indus river basin 9,000 years ago, evolving gradually into the Indus Valley Civilisation of the third millennium BCE. By 1200 BCE, an archaic form of Sanskrit, an Indo-European language, had diffused into India from the northwest. Its hymns recorded the dawning of Hinduism in India. India's pre-existing Dravidian languages were supplanted in the northern regions. By 400 BCE, caste had emerged within Hinduism, and Buddhism and Jainism had arisen, proclaiming social orders unlinked to heredity. Early political consolidations gave rise to the loose-knit Maurya and Gupta Empires. Widespread creativity suffused this era, but the status of women declined, and untouchability became an organized belief. In South India, the Middle kingdoms exported Dravidian language scripts and religious cultures to the kingdoms of Southeast Asia.\\nIn the early medieval era, Christianity, Islam, Judaism, and Zoroastrianism became established on India's southern and western coasts. Muslim armies from Central Asia intermittently overran India's northern plains. The resulting Delhi Sultanate drew northern India into the cosmopolitan networks of medieval Islam. In south India, the Vijayanagara Empire created a long-lasting composite Hindu culture. In the Punjab, Sikhism emerged, rejecting institutionalised religion. The Mughal Empire, in 1526, ushered in two centuries of relative peace, leaving a legacy of luminous architecture. Gradually expanding rule of the British East India Company  turned India into a colonial economy but consolidated its sovereignty. British Crown rule began in 1858. The rights promised to Indians were granted slowly, but technological changes were introduced, and modern ideas of education and public life took root. A pioneering and influential nationalist movement, noted for nonviolent resistance, became the major factor in ending British rule. In 1947, the British Indian Empire was partitioned into two independent dominions, a Hindu-majority dominion of India and a Muslim-majority dominion of Pakistan. A large-scale loss of life and an unprecedented migration accompanied the partition.\\nIndia has been a federal republic since 1950, governed through a democratic parliamentary system. It is a pluralistic, multilingual and multi-ethnic society. India's population grew from 361 million in 1951 to over 1.4 billion in 2023.\\nDuring this time, its nominal per capita income increased from US$64 annually to US$2,601, and its literacy rate from 16.6% to 74%. A comparatively destitute country in 1951, India has become a fast-growing major economy and hub for information technology services; it has an expanding middle class. Indian movies and music increasingly influence global culture. India has reduced its poverty rate, though at the cost of increasing economic inequality. It is a nuclear-weapon state that ranks high in military expenditure. It has disputes over Kashmir with its neighbours, Pakistan and China, unresolved since the mid-20th century. Among the socio-economic challenges India faces are gender inequality, child malnutrition, and rising levels of air pollution. India's land is megadiverse with four biodiversity hotspots. India's wildlife, which has traditionally been viewed with tolerance in its culture, is supported in protected habitats.\\n\\nEtymology\\nAccording to the Oxford English Dictionary (2009), the name \\\"India\\\" is derived from the Classical Latin India, a reference to South Asia and an uncertain region to its east. In turn \\\"India\\\" derived successively from Hellenistic Greek India (\\u1f38\\u03bd\\u03b4\\u03af\\u03b1), Ancient Greek Indos (\\u1f38\\u03bd\\u03b4\\u03cc\\u03c2), Old Persian Hindush (an eastern province of the Achaemenid Empire), and ultimately its cognate, the Sanskrit Sindhu, or 'river'\\u2014specifically the Indus River, and by extension its well-settled southern basin. The Ancient Greeks referred to the Indians as Indoi, 'the people of the Indus'.\\nThe term Bharat (Bh\\u0101rat; pronounced [\\u02c8b\\u02b1a\\u02d0\\u027e\\u0259t] ), mentioned in both Indian epic poetry and the Constitution of India, is used in its variations by many Indian languages. A modern rendering of the historical name Bharatavarsha, which applied originally to North India, Bharat gained increased currency from the mid-19th century as a native name for India.\\nHindustan ([\\u0266\\u026and\\u028a\\u02c8sta\\u02d0n] ) is a Middle Persian name for India that became popular by the 13th century, and was used widely since the era of the Mughal Empire. The meaning of Hindustan has varied, referring to a region encompassing the northern Indian subcontinent (present-day northern India and Pakistan) or to India in its near entirety.\\n\\nHistory\\nAncient India\\nBy 55,000 years ago, the first modern humans, or Homo sapiens, had arrived on the Indian subcontinent from Africa. The earliest known modern human remains in South Asia date to about 30,000 years ago. After 6500 BCE, evidence for domestication of food crops and animals, construction of permanent structures, and storage of agricultural surplus appeared in Mehrgarh and other sites in Balochistan, Pakistan. These gradually developed into the Indus Valley Civilisation, the first urban culture in South Asia, which flourished during 2500\\u20131900 BCE in Pakistan and western India. Centred around cities such as Mohenjo-daro, Harappa, Dholavira, and Kalibangan, and relying on varied forms of subsistence, the civilisation engaged robustly in crafts production and wide-ranging trade.\\nDuring the period 2000\\u2013500 BCE, many regions of the subcontinent transitioned from the Chalcolithic cultures to the Iron Age ones. The Vedas, the oldest scriptures associated with Hinduism, were composed during this period, and historians have analysed these to posit a Vedic culture in the Punjab region and the upper Gangetic Plain. Most historians also consider this period to have encompassed several waves of Indo-Aryan migration into the subcontinent from the north-west. The caste system, which created a hierarchy of priests, warriors, and free peasants, but which excluded indigenous peoples by labelling their occupations impure, arose during this period. On the Deccan Plateau, archaeological evidence from this period suggests the existence of a chiefdom stage of political organisation. In South India, a progression to sedentary life is indicated by the large number of megalithic monuments dating from this period, as well as by nearby traces of agriculture, irrigation tanks, and craft traditions.\\n\\nIn the late Vedic period, around the 6th century BCE, the small states and chiefdoms of the Ganges Plain and the north-western regions had consolidated into 16 major oligarchies and monarchies that were known as the mahajanapadas. The emerging urbanisation gave rise to non-Vedic religious movements, two of which became independent religions. Jainism came into prominence during the life of its exemplar, Mahavira. Buddhism, based on the teachings of Gautama Buddha, attracted followers from all social classes excepting the middle class; chronicling the life of the Buddha was central to the beginnings of recorded history in India. In an age of increasing urban wealth, both religions held up renunciation as an ideal, and both established long-lasting monastic traditions. Politically, by the 3rd century BCE, the kingdom of Magadha had annexed or reduced other states to emerge as the Maurya Empire. The empire was once thought to have controlled most of the subcontinent except the far south, but its core regions are now thought to have been separated by large autonomous areas. The Mauryan kings are known as much for their empire-building and determined management of public life as for Ashoka's renunciation of militarism and far-flung advocacy of the Buddhist dhamma.\\nThe Sangam literature of the Tamil language reveals that, between 200 BCE and 200 CE, the southern peninsula was ruled by the Cheras, the Cholas, and the Pandyas, dynasties that traded extensively with the Roman Empire and with West and Southeast Asia. In North India, Hinduism asserted patriarchal control within the family, leading to increased subordination of women. By the 4th and 5th centuries, the Gupta Empire had created a complex system of administration and taxation in the greater Ganges Plain; this system became a model for later Indian kingdoms. Under the Guptas, a renewed Hinduism based on devotion, rather than the management of ritual, began to assert itself. This renewal was reflected in a flowering of sculpture and architecture, which found patrons among an urban elite. Classical Sanskrit literature flowered as well, and Indian science, astronomy, medicine, and mathematics made significant advances.\\n\\nMedieval India\\nThe Indian early medieval age, from 600 to 1200 CE, is defined by regional kingdoms and cultural diversity. When Harsha of Kannauj, who ruled much of the Indo-Gangetic Plain from 606 to 647 CE, attempted to expand southwards, he was defeated by the Chalukya ruler of the Deccan. When his successor attempted to expand eastwards, he was defeated by the Pala king of Bengal. When the Chalukyas attempted to expand southwards, they were defeated by the Pallavas from farther south, who in turn were opposed by the Pandyas and the Cholas from still farther south. No ruler of this period was able to create an empire and consistently control lands much beyond their core region. During this time, pastoral peoples, whose land had been cleared to make way for the growing agricultural economy, were accommodated within caste society, as were new non-traditional ruling classes. The caste system consequently began to show regional differences.\\nIn the 6th and 7th centuries, the first devotional hymns were created in the Tamil language. They were imitated all over India and led to both the resurgence of Hinduism and the development of all modern languages of the subcontinent. Indian royalty, big and small, and the temples they patronised drew citizens in great numbers to the capital cities, which became economic hubs as well. Temple towns of various sizes began to appear everywhere as India underwent another urbanisation. By the 8th and 9th centuries, the effects were felt in Southeast Asia, as South Indian culture and political systems were exported to lands that became part of modern-day Myanmar, Thailand, Laos, Brunei, Cambodia, Vietnam, Philippines, Malaysia, and Indonesia. Indian merchants, scholars, and sometimes armies were involved in this transmission; Southeast Asians took the initiative as well, with many sojourning in Indian seminaries and translating Buddhist and Hindu texts into their languages.\\nAfter the 10th century, Muslim Central Asian nomadic clans, using swift-horse cavalry and raising vast armies united by ethnicity and religion, repeatedly overran South Asia's north-western plains, leading eventually to the establishment of the Islamic Delhi Sultanate in 1206. The sultanate was to control much of North India and to make many forays into South India. Although at first disruptive for the Indian elites, the sultanate largely left its vast non-Muslim subject population to its own laws and customs. By repeatedly repulsing Mongol raiders in the 13th century, the sultanate saved India from the devastation visited on West and Central Asia, setting the scene for centuries of migration of fleeing soldiers, learned men, mystics, traders, artists, and artisans from that region into the subcontinent, thereby creating a syncretic Indo-Islamic culture in the north. The sultanate's raiding and weakening of the regional kingdoms of South India paved the way for the indigenous Vijayanagara Empire. Embracing a strong Shaivite tradition and building upon the military technology of the sultanate, the empire came to control much of peninsular India, and was to influence South Indian society for long afterwards.\\n\\nEarly modern India\\nIn the early 16th century, northern India, then under mainly Muslim rulers, fell again to the superior mobility and firepower of a new generation of Central Asian warriors. The resulting Mughal Empire did not stamp out the local societies it came to rule. Instead, it balanced and pacified them through new administrative practices and diverse and inclusive ruling elites, leading to more systematic, centralised, and uniform rule. Eschewing tribal bonds and Islamic identity, especially under Akbar, the Mughals united their far-flung realms through loyalty, expressed through a Persianised culture, to an emperor who had near-divine status. The Mughal state's economic policies, deriving most revenues from agriculture and mandating that taxes be paid in the well-regulated silver currency, caused peasants and artisans to enter larger markets. The relative peace maintained by the empire during much of the 17th century was a factor in India's economic expansion, resulting in greater patronage of painting, literary forms, textiles, and architecture. Newly coherent social groups in northern and western India, such as the Marathas, the Rajputs, and the Sikhs, gained military and governing ambitions during Mughal rule, which, through collaboration or adversity, gave them both recognition and military experience. Expanding commerce during Mughal rule gave rise to new Indian commercial and political elites along the coasts of southern and eastern India. As the empire disintegrated, many among these elites were able to seek and control their own affairs.\\n\\nBy the early 18th century, with the lines between commercial and political dominance being increasingly blurred, a number of European trading companies, including the English East India Company, had established coastal outposts. The East India Company's control of the seas, greater resources, and more advanced military training and technology led it to increasingly assert its military strength and caused it to become attractive to a portion of the Indian elite; these factors were crucial in allowing the company to gain control over the Bengal region by 1765 and sideline the other European companies. Its further access to the riches of Bengal and the subsequent increased strength and size of its army enabled it to annex or subdue most of India by the 1820s. India was then no longer exporting manufactured goods as it long had, but was instead supplying the British Empire with raw materials. Many historians consider this to be the onset of India's colonial period. By this time, with its economic power severely curtailed by the British parliament and having effectively been made an arm of British administration, the East India Company began more consciously to enter non-economic arenas, including education, social reform, and culture.\\n\\nModern India\\nHistorians consider India's modern age to have begun sometime between 1848 and 1885. The appointment in 1848 of Lord Dalhousie as Governor General of the East India Company set the stage for changes essential to a modern state. These included the consolidation and demarcation of sovereignty, the surveillance of the population, and the education of citizens. Technological changes\\u2014among them, railways, canals, and the telegraph\\u2014were introduced not long after their introduction in Europe. However, disaffection with the company also grew during this time and set off the Indian Rebellion of 1857. Fed by diverse resentments and perceptions, including invasive British-style social reforms, harsh land taxes, and summary treatment of some rich landowners and princes, the rebellion rocked many regions of northern and central India and shook the foundations of Company rule. Although the rebellion was suppressed by 1858, it led to the dissolution of the East India Company and the direct administration of India by the British government. Proclaiming a unitary state and a gradual but limited British-style parliamentary system, the new rulers also protected princes and landed gentry as a feudal safeguard against future unrest. In the decades following, public life gradually emerged all over India, leading eventually to the founding of the Indian National Congress in 1885.\\nThe rush of technology and the commercialisation of agriculture in the second half of the 19th century was marked by economic setbacks, and many small farmers became dependent on the whims of far-away markets. There was an increase in the number of large-scale famines, and, despite the risks of infrastructure development borne by Indian taxpayers, little industrial employment was generated for Indians. There were also salutary effects: commercial cropping, especially in the newly canalled Punjab, led to increased food production for internal consumption. The railway network provided critical famine relief, notably reduced the cost of moving goods, and helped nascent Indian-owned industry.\\n\\nAfter World War I, in which approximately one million Indians served, a new period began. It was marked by British reforms but also repressive legislation, by more strident Indian calls for self-rule, and by the beginnings of a nonviolent movement of non-co-operation, of which Mahatma Gandhi would become the leader and enduring symbol. During the 1930s, slow legislative reform was enacted by the British; the Indian National Congress won victories in the resulting elections. The next decade was beset with crises: Indian participation in World War II, the Congress's final push for non-co-operation, and an upsurge of Muslim nationalism. All were capped by the advent of independence in 1947, but tempered by the partition of India into two states: India and Pakistan.\\nVital to India's self-image as an independent nation was its constitution, completed in 1950, which put in place a secular and democratic republic.  Economic liberalisation, which began in the 1980s and the collaboration with Soviet Union for technical know-how, has created a large urban middle class, transformed India into one of the world's fastest-growing economies, and increased its geopolitical clout. Yet, India is also shaped by seemingly unyielding poverty, both rural and urban; by religious and caste-related violence; by Maoist-inspired Naxalite insurgencies; and by separatism in Jammu and Kashmir and in Northeast India. It has unresolved territorial disputes with China and with Pakistan. India's sustained democratic freedoms are unique among the world's newer nations; however, in spite of its recent economic successes, freedom from want for its disadvantaged population remains a goal yet to be achieved.\\n\\nGeography\\nIndia accounts for the bulk of the Indian subcontinent, lying atop the Indian tectonic plate, a part of the Indo-Australian Plate. India's defining geological processes began 75 million years ago when the Indian Plate, then part of the southern supercontinent Gondwana, began a north-eastward drift caused by seafloor spreading to its south-west, and later, south and south-east. Simultaneously, the vast Tethyan oceanic crust, to its northeast, began to subduct under the Eurasian Plate. These dual processes, driven by convection in the Earth's mantle, both created the Indian Ocean and caused the Indian continental crust eventually to under-thrust Eurasia and to uplift the Himalayas. Immediately south of the emerging Himalayas, plate movement created a vast crescent-shaped trough that rapidly filled with river-borne sediment and now constitutes the Indo-Gangetic Plain. The original Indian plate makes its first appearance above the sediment in the ancient Aravalli range, which extends from the Delhi Ridge in a southwesterly direction. To the west lies the Thar Desert, the eastern spread of which is checked by the Aravallis.\\n\\nThe remaining Indian Plate survives as peninsular India, the oldest and geologically most stable part of India. It extends as far north as the Satpura and Vindhya ranges in central India. These parallel chains run from the Arabian Sea coast in Gujarat in the west to the coal-rich Chota Nagpur Plateau in Jharkhand in the east. To the south, the remaining peninsular landmass, the Deccan Plateau, is flanked on the west and east by coastal ranges known as the Western and Eastern Ghats; the plateau contains the country's oldest rock formations, some over one billion years old. Constituted in such fashion, India lies to the north of the equator between 6\\u00b0 44\\u2032 and 35\\u00b0 30\\u2032 north latitude and 68\\u00b0 7\\u2032 and 97\\u00b0 25\\u2032 east longitude.\\nIndia's coastline measures 7,517 kilometres (4,700 mi) in length; of this distance, 5,423 kilometres (3,400 mi) belong to peninsular India and 2,094 kilometres (1,300 mi) to the Andaman, Nicobar, and Lakshadweep island chains. According to the Indian naval hydrographic charts, the mainland coastline consists of the following: 43% sandy beaches; 11% rocky shores, including cliffs; and 46% mudflats or marshy shores.\\nMajor Himalayan-origin rivers that substantially flow through India include the Ganges and the Brahmaputra, both of which drain into the Bay of Bengal. Important tributaries of the Ganges include the Yamuna and the Kosi; the latter's extremely low gradient, caused by long-term silt deposition, leads to severe floods and course changes. Major peninsular rivers, whose steeper gradients prevent their waters from flooding, include the Godavari, the Mahanadi, the Kaveri, and the Krishna, which also drain into the Bay of Bengal; and the Narmada and the Tapti, which drain into the Arabian Sea. Coastal features include the marshy Rann of Kutch of western India and the alluvial Sundarbans delta of eastern India; the latter is shared with Bangladesh. India has two archipelagos: the Lakshadweep, coral atolls off India's south-western coast; and the Andaman and Nicobar Islands, a volcanic chain in the Andaman Sea.\\nIndian climate is strongly influenced by the Himalayas and the Thar Desert, both of which drive the economically and culturally pivotal summer and winter monsoons. The Himalayas prevent cold Central Asian katabatic winds from blowing in, keeping the bulk of the Indian subcontinent warmer than most locations at similar latitudes. The Thar Desert plays a crucial role in attracting the moisture-laden south-west summer monsoon winds that, between June and October, provide the majority of India's rainfall. Four major climatic groupings predominate in India: tropical wet, tropical dry, subtropical humid, and montane.\\nTemperatures in India have risen by 0.7 \\u00b0C (1.3 \\u00b0F) between 1901 and 2018. Climate change in India is often thought to be the cause. The retreat of Himalayan glaciers has adversely affected the flow rate of the major Himalayan rivers, including the Ganges and the Brahmaputra. According to some current projections, the number and severity of droughts in India will have markedly increased by the end of the present century.\\n\\nBiodiversity\\nIndia is a megadiverse country, a term employed for 17 countries that display high biological diversity and contain many species exclusively indigenous, or endemic, to them. India is the habitat for 8.6% of all mammals, 13.7% of bird species, 7.9% of reptile species, 6% of amphibian species, 12.2% of fish species, and 6.0% of all flowering plant species. Fully a third of Indian plant species are endemic. India also contains four of the world's 34 biodiversity hotspots, or regions that display significant habitat loss in the presence of high endemism.\\nIndia's most dense forests, such as the tropical moist forest of the Andaman Islands, the Western Ghats, and Northeast India, occupy approximately 3% of its land area. Moderately dense forest, whose canopy density is between 40% and 70%, occupies 9.39% of India's land area. It predominates in the temperate coniferous forest of the Himalayas, the moist deciduous sal forest of eastern India, and the dry deciduous teak forest of central and southern India. India has two natural zones of thorn forest, one in the Deccan Plateau, immediately east of the Western Ghats, and the other in the western part of the Indo-Gangetic plain, now turned into rich agricultural land by irrigation, its features no longer visible.\\nAmong the Indian subcontinent's notable indigenous trees are the astringent Azadirachta indica, or neem, which is widely used in rural Indian herbal medicine, and the luxuriant Ficus religiosa, or peepul, which is displayed on the ancient seals of Mohenjo-daro, and under which the Buddha is recorded in the Pali canon to have sought enlightenment.\\nMany Indian species have descended from those of Gondwana, the southern supercontinent from which India separated more than 100 million years ago. India's subsequent collision with Eurasia set off a mass exchange of species. However, volcanism and climatic changes later caused the extinction of many endemic Indian forms. Still later, mammals entered India from Asia through two zoogeographic passes flanking the Himalayas. This had the effect of lowering endemism among India's mammals, which stands at 12.6%, contrasting with 45.8% among reptiles and 55.8% among amphibians. Among endemics are the vulnerable hooded leaf monkey and the threatened Beddome's toad of the Western Ghats.\\nIndia contains 172 IUCN-designated threatened animal species, or 2.9% of endangered forms. These include the endangered Bengal tiger and the Ganges river dolphin. Critically endangered species include the gharial, a crocodilian; the great Indian bustard; and the Indian white-rumped vulture, which has become nearly extinct by having ingested the carrion of diclofenac-treated cattle. Before they were extensively used for agriculture and cleared for human settlement, the thorn forests of Punjab were mingled at intervals with open grasslands that were grazed by large herds of blackbuck preyed on by the Asiatic cheetah; the blackbuck, no longer extant in Punjab, is now severely endangered in India, and the cheetah is extinct. The pervasive and ecologically devastating human encroachment of recent decades has critically endangered Indian wildlife. In response, the system of national parks and protected areas, first established in 1935, was expanded substantially. In 1972, India enacted the Wildlife Protection Act and Project Tiger to safeguard crucial wilderness; the Forest Conservation Act was enacted in 1980 and amendments added in 1988. India hosts more than five hundred wildlife sanctuaries and eighteen biosphere reserves, four of which are part of the World Network of Biosphere Reserves; its eigthy-nine wetlands are registered under the Ramsar Convention.\\n\\nPolitics and government\\nPolitics\\nA parliamentary republic with a multi-party system, India has six recognised national parties, including the Indian National Congress (INC) and the Bharatiya Janata Party (BJP), and more than 50 regional parties. The Congress is considered center in Indian political culture, and the BJP right-wing. For most of the period between 1950\\u2014when India first became a republic\\u2014and the late 1980s, the Congress held a majority in the Parliament. Since then, however, it has increasingly shared the political stage with the BJP, as well as with powerful regional parties which have often forced the creation of multi-party coalition governments at the center.\\nIn the Republic of India's first three general elections, in 1951, 1957, and 1962, the Pandit Jawaharlal Nehru-led Congress won easy victories. On Nehru's death in 1964, Lal Bahadur Shastri briefly became prime minister; he was succeeded, after his own unexpected death in 1966, by Nehru's daughter Indira Gandhi, who went on to lead the Congress to election victories in 1967 and 1971. Following public discontent with the state of emergency she declared in 1975, the Congress was voted out of power in 1977; the then-new Janata Party, which had opposed the emergency, was voted in. Its government lasted just over two years. There were two prime ministers during this period; Morarji Desai and Charan Singh. Voted back into power in 1980, the Congress saw a change in leadership in 1984, when Indira Gandhi was assassinated; she was succeeded by her son Rajiv Gandhi, who won an easy victory in the general elections later that year. The Congress was voted out again in 1989 when a National Front coalition, led by the newly formed Janata Dal in alliance with the Left Front, won the elections; that government too proved relatively short-lived, lasting just under two years. There were two prime ministers during this period; V.P. Singh and Chandra Shekhar. Elections were held again in 1991; no party won an absolute majority. The Congress, as the largest single party, was able to form a minority government led by P. V. Narasimha Rao.\\n\\nA two-year period of political turmoil followed the general election of 1996. Several short-lived alliances shared power at the centre. The BJP formed a government briefly in 1996; it was followed by two comparatively long-lasting United Front coalitions, which depended on external support. There were two prime ministers during this period; H.D. Deve Gowda and I.K. Gujral. In 1998, the BJP was able to form a successful coalition, the National Democratic Alliance (NDA). Led by Atal Bihari Vajpayee, the NDA became the first non-Congress, coalition government to complete a five-year term. Again in the 2004 Indian general elections, no party won an absolute majority, but the Congress emerged as the largest single party, forming another successful coalition: the United Progressive Alliance (UPA). It had the support of left-leaning parties and MPs who opposed the BJP. The UPA returned to power in the 2009 general election with increased numbers, and it no longer required external support from India's communist parties. That year, Manmohan Singh became the first prime minister since Jawaharlal Nehru in 1957 and 1962 to be re-elected to a consecutive five-year term. In the 2014 general election, the BJP became the first political party since 1984 to win a majority and govern without the support of other parties. In the 2019 general election, the BJP was victorious again with majority. In the 2024 general election, the BJP failed to achieve majority and the BJP-led NDA coalition formed the government. Narendra Modi, a former chief minister of Gujarat, is serving as the prime minister of India in his third term since May 26, 2014.\\n\\nGovernment\\nIndia is a federation with a parliamentary system governed under the Constitution of India\\u2014the country's supreme legal document. It is a constitutional republic. Federalism in India defines the power distribution between the union and the states. The Constitution of India, which came into effect on 26 January 1950, originally stated India to be a \\\"democratic republic;\\\" this characterisation was amended in 1971 to a \\\"socialist, secular, democratic republic\\\". India's form of government, traditionally described as \\\"quasi-federal\\\" with a strong centre and weak states, has grown increasingly federal since the late 1990s as a result of political, economic, and social changes.\\nThe Government of India comprises three branches: the Executive, Legislature, and Judiciary. The President of India is the ceremonial head of state, who is elected indirectly for a five-year term by an electoral college comprising members of national and state legislatures. The Prime Minister of India is the head of government and exercises most executive power. Appointed by the president, the prime minister is by convention supported by the party or political alliance having a majority of seats in the lower house of parliament. The executive of the Indian government consists of the president, the vice-president, and the Union Council of Ministers\\u2014with the cabinet being its executive committee\\u2014headed by the prime minister. Any minister holding a portfolio must be a member of one of the houses of parliament. In the Indian parliamentary system, the executive is subordinate to the legislature; the prime minister and their council are directly responsible to the lower house of the parliament. Civil servants act as permanent executives and all decisions of the executive are implemented by them.\\nThe legislature of India is the bicameral parliament. Operating under a Westminster-style parliamentary system, it comprises an upper house called the Rajya Sabha (Council of States) and a lower house called the Lok Sabha (House of the People). The Rajya Sabha is a permanent body of 245 members who serve staggered six-year terms with elections every 2 years. Most are elected indirectly by the state and union territorial legislatures in numbers proportional to their state's share of the national population. The Lok Sabha's 543 members are elected directly by popular vote among citizens aged at least 18; they represent single-member constituencies for five-year terms. The Indian constitution historically allowed for the nomination of Anglo-Indians to two seats in the Lok Sabha; this provision was removed in 2019. A number of seats from each state are reserved for candidates from Scheduled Castes and Scheduled Tribes in proportion to their population within that state.\\nIndia has a three-tier unitary independent judiciary comprising the supreme court, headed by the Chief Justice of India, 25 high courts, and a large number of trial courts. The supreme court has original jurisdiction over cases involving fundamental rights and over disputes between states and the centre and has appellate jurisdiction over the high courts. It has the power to both strike down union or state laws which contravene the constitution and invalidate any government action it deems unconstitutional.\\n\\nAdministrative divisions\\nIndia is a federal union comprising 28 states and 8 union territories. All states, as well as the union territories of Jammu and Kashmir, Puducherry and the National Capital Territory of Delhi, have elected legislatures and governments following the Westminster system. The remaining five union territories are directly ruled by the central government through appointed administrators. In 1956, under the States Reorganisation Act, states were reorganised on a linguistic basis. There are over a quarter of a million local government bodies at city, town, block, district and village levels.\\n\\nStates\\nUnion territories\\nForeign, economic, and strategic relations\\nIndia became a republic in 1950 and chose to stay in the Commonwealth of Nations. Throughout the decade, India strongly supported decolonisation in Africa and Asia and played a leading role in the Non-Aligned Movement. After initially cordial relations with neighbouring China, India went to war with China in 1962 and was widely thought to have been humiliated. This was followed by another military conflict in 1967 in which India successfully repelled Chinese attack. India has had tense relations with neighbouring Pakistan. The two have gone to war four times: in 1947, 1965, 1971, and 1999. Three of these wars were fought over the disputed territory of Kashmir, while the third, the 1971 war, followed from India's support for the independence of Bangladesh. In the late 1980s, the Indian military twice intervened abroad at the invitation of the host country: a peace-keeping operation in Sri Lanka between 1987 and 1990; and an armed intervention to prevent a 1988 coup d'\\u00e9tat attempt in the Maldives. After the 1965 war with Pakistan, India began to pursue close military and economic ties with the Soviet Union; by the late 1960s, the Soviet Union was its largest arms supplier.\\nAside from its ongoing special relationship with Russia, India has wide-ranging defence relations with Israel and France. In recent years, it has played key roles in the South Asian Association for Regional Cooperation and the World Trade Organization. The nation has provided 100,000 military and police personnel to serve in 35 UN peacekeeping operations across four continents. It participates in the East Asia Summit, the G8+5, and other multilateral forums. India has close economic ties with countries in South America, Asia, and Africa; it pursues a \\\"Look East\\\" policy that seeks to strengthen partnerships with the ASEAN nations, Japan, and South Korea that revolve around many issues, but especially those involving economic investment and regional security.\\n\\nChina's nuclear test of 1964, as well as its repeated threats to intervene in support of Pakistan in the 1965 war, convinced India to develop nuclear weapons. India conducted its first nuclear weapons test in 1974 and carried out additional underground testing in 1998. Despite criticism and military sanctions, India has signed neither the Comprehensive Nuclear-Test-Ban Treaty nor the Nuclear Non-Proliferation Treaty, considering both to be flawed and discriminatory. India maintains a \\\"no first use\\\" nuclear policy and is developing a nuclear triad capability as a part of its \\\"Minimum Credible Deterrence\\\" doctrine. It is developing a ballistic missile defence shield and, a fifth-generation fighter jet. Other indigenous military projects involve the design and implementation of Vikrant-class aircraft carriers and Arihant-class nuclear submarines. \\nIndia is estimated to possess up to 172 nuclear warheads, and is considered to be producing both highly enriched uranium (HEU) and weapons-grade plutonium, with its HEU production assumed to be focused on its growing number of nuclear-powered vessels' and submarines' fuels. Kristensen et al. of Nuclear Information Project with the Federation of American Scientists estimate that India is operating eight nuclear-capable systems as of 2024, including aircraft, land-based and sea-based ballistic missile systems, with most of its programs in development thought to be nearing \\\"completion and to be fielded with the armed forces soon\\\".\\nSince the end of the Cold War, India has increased its economic, strategic, and military co-operation with the United States and the European Union. In 2008, a civilian nuclear agreement was signed between India and the United States. Although India possessed nuclear weapons at the time and was not a party to the Nuclear Non-Proliferation Treaty, it received waivers from the International Atomic Energy Agency and the Nuclear Suppliers Group, ending earlier restrictions on India's nuclear technology and commerce. As a consequence, India became the sixth de facto nuclear weapons state. India subsequently signed co-operation agreements involving civilian nuclear energy with Russia, France, the United Kingdom, and Canada.\\n\\nThe President of India is the supreme commander of the nation's armed forces; with 1.45 million active troops, they compose the world's second-largest military. It comprises the Indian Army, the Indian Navy, the Indian Air Force, and the Indian Coast Guard. The official Indian defence budget for 2011 was US$36.03 billion, or 1.83% of GDP. Defence expenditure was pegged at US$70.12 billion for fiscal year 2022\\u201323 and, increased 9.8% than previous fiscal year. India is the world's second-largest arms importer; between 2016 and 2020, it accounted for 9.5% of the total global arms imports. Much of the military expenditure was focused on defence against Pakistan and countering growing Chinese influence in the Indian Ocean. In May 2017, the Indian Space Research Organisation launched the South Asia Satellite, a gift from India to its neighbouring SAARC countries. In October 2018, India signed a US$5.43 billion (over \\u20b9400 billion) agreement with Russia to procure four S-400 Triumf surface-to-air missile defence systems, Russia's most advanced long-range missile defence system.\\n\\nEconomy\\nAccording to the International Monetary Fund (IMF), the Indian economy in 2024 was nominally worth $3.94 trillion; it was the fifth-largest economy by market exchange rates and is, at around $15.0 trillion, the third-largest by purchasing power parity (PPP). With its average annual GDP growth rate of 5.8% over the past two decades, and reaching 6.1% during 2011\\u20132012, India is one of the world's fastest-growing economies. However, due to its low GDP per capita\\u2014which ranks 136th in the world in nominal per capita income and 125th in per capita income adjusted for purchasing power parity (PPP)\\u2014the vast majority of Indians fall into the low-income group. Until 1991, all Indian governments followed protectionist policies that were influenced by socialist economics. Widespread state intervention and regulation largely walled the economy off from the outside world. An acute balance of payments crisis in 1991 forced the nation to liberalise its economy; since then, it has moved increasingly towards a free-market system by emphasising both foreign trade and direct investment inflows. India has been a member of World Trade Organization since 1 January 1995.\\nThe 522-million-worker Indian labour force is the world's second largest, as of 2017. The service sector makes up 55.6% of GDP, the industrial sector 26.3% and the agricultural sector 18.1%. India's foreign exchange remittances of US$100 billion in 2022, highest in the world, were contributed to its economy by 32 million Indians working in foreign countries. Major agricultural products include rice, wheat, oilseed, cotton, jute, tea, sugarcane, and potatoes. Major industries include textiles, telecommunications, chemicals, pharmaceuticals, biotechnology, food processing, steel, transport equipment, cement, mining, petroleum, machinery, and software. In 2006, the share of external trade in India's GDP stood at 24%, up from 6% in 1985. In 2008, India's share of world trade was 1.7%; In 2021, India was the world's ninth-largest importer and the sixteenth-largest exporter. Major exports include petroleum products, textile goods, jewellery, software, engineering goods, chemicals, and manufactured leather goods. Major imports include crude oil, machinery, gems, fertiliser, and chemicals. Between 2001 and 2011, the contribution of petrochemical and engineering goods to total exports grew from 14% to 42%. India was the world's second-largest textile exporter after China in the 2013 calendar year.\\nAveraging an economic growth rate of 7.5% for several years prior to 2007, India has more than doubled its hourly wage rates during the first decade of the 21st century. Some 431 million Indians have left poverty since 1985; India's middle classes are projected to number around 580 million by 2030. Though ranking 68th in global competitiveness, as of 2010, India ranks 17th in financial market sophistication, 24th in the banking sector, 44th in business sophistication, and 39th in innovation, ahead of several advanced economies. With seven of the world's top 15 information technology outsourcing companies based in India, as of 2009, the country is viewed as the second-most favourable outsourcing destination after the United States. India is ranked 39th in the Global Innovation Index in 2024. In 2023, India's consumer market was the world's fifth largest.\\nDriven by growth, India's nominal GDP per capita increased steadily from US$308 in 1991, when economic liberalisation began, to US$1,380 in 2010, to an estimated US$2,731 in 2024. It is expected to grow to US$3,264 by 2026. However, it has remained lower than those of other Asian developing countries such as Indonesia, Malaysia, Philippines, Sri Lanka, and Thailand, and is expected to remain so in the near future.\\n\\nAccording to a 2011 PricewaterhouseCoopers (PwC) report, India's GDP at purchasing power parity could overtake that of the United States by 2045. During the next four decades, Indian GDP is expected to grow at an annualised average of 8%, making it potentially the world's fastest-growing major economy until 2050. The report highlights key growth factors: a young and rapidly growing working-age population; growth in the manufacturing sector because of rising education and engineering skill levels; and sustained growth of the consumer market driven by a rapidly growing middle-class. The World Bank cautions that, for India to achieve its economic potential, it must continue to focus on public sector reform, transport infrastructure, agricultural and rural development, education, energy security, and public health and nutrition.\\nAccording to the Worldwide Cost of Living Report released by the Economist Intelligence Unit (EIU) in 2017, which compared more than 400 individual prices across 160 products and services, four of the cheapest cities were in India: Bengaluru (3rd), Mumbai (5th), Chennai (5th) and New Delhi (8th).\\n\\nIndustries\\nIndia's telecommunication industry is the second-largest in the world with over 1.2 billion subscribers. It contributes 6.5% to India's GDP. After the third quarter of 2017, India surpassed the US to become the second-largest smartphone market in the world after China.\\nThe Indian automotive industry, the world's second-fastest growing, increased domestic sales by 26% during 2009\\u20132010, and exports by 36% during 2008\\u20132009. In 2022, India became the world's third-largest vehicle market after China and the United States, surpassing Japan. At the end of 2011, the Indian IT industry employed 2.8 million professionals, generated revenues close to US$100 billion equalling 7.5% of Indian GDP, and contributed 26% of India's merchandise exports.\\nThe pharmaceutical industry in India emerged as a global player. As of 2021, with 3000 pharmaceutical companies and 10,500 manufacturing units, India is the world's third-largest pharmaceutical producer, largest producer of generic medicines and supply up to 50\\u201360% of global vaccines demand, these all contribute up to US$24.44 billions in exports and India's local pharmaceutical market is estimated up to US$42 billion. India is among the top 12 biotech destinations in the world. The Indian biotech industry grew by 15.1% in 2012\\u20132013, increasing its revenues from \\u20b9204.4 billion (Indian rupees) to \\u20b9235.24 billion (US$3.94 billion at June 2013 exchange rates).\\n\\nEnergy\\nIndia's capacity to generate electrical power is 300 gigawatts, of which 42 gigawatts is renewable. The country's usage of coal is a major cause of greenhouse gas emissions by India but its renewable energy is competing strongly. India emits about 7% of global greenhouse gas emissions. This equates to about 2.5 tons of carbon dioxide per person per year, which is half the world average. Increasing access to electricity and clean cooking with liquefied petroleum gas have been priorities for energy in India.\\n\\nSocio-economic challenges\\nDespite economic growth during recent decades, India continues to face socio-economic challenges. In 2006, India contained the largest number of people living below the World Bank's international poverty line of US$1.25 per day. The proportion decreased from 60% in 1981 to 42% in 2005. Under the World Bank's later revised poverty line, it was 21% in 2011. 30.7% of India's children under the age of five are underweight. According to a Food and Agriculture Organization report in 2015, 15% of the population is undernourished. The Midday Meal Scheme attempts to lower these rates.\\nA 2018 Walk Free Foundation report estimated that nearly 8 million people in India were living in different forms of modern slavery, such as bonded labour, child labour, human trafficking, and forced begging. According to the 2011 census, there were 10.1 million child labourers in the country, a decline of 2.6 million from 12.6 million in 2001.\\nSince 1991, economic inequality between India's states has consistently grown: the per-capita net state domestic product of the richest states in 2007 was 3.2 times that of the poorest. Corruption in India is perceived to have decreased. According to the Corruption Perceptions Index, India ranked 78th out of 180 countries in 2018, an improvement from 85th in 2014.\\n\\nDemographics, languages, and religion\\nWith an estimated 1,428,627,663 residents in 2023, India is the world's most populous country. 1,210,193,422 residents were reported in the 2011 provisional census report. Its population grew by 17.64% from 2001 to 2011, compared to 21.54% growth in the previous decade (1991\\u20132001). The human sex ratio, according to the 2011 census, is 940 females per 1,000 males. The median age was 28.7 in 2020. The first post-colonial census, conducted in 1951, counted 361 million people. Medical advances made in the last 50 years as well as increased agricultural productivity brought about by the \\\"Green Revolution\\\" have caused India's population to grow rapidly.\\nThe life expectancy in India is at 70 years\\u201471.5 years for women, 68.7 years for men. There are around 93 physicians per 100,000 people. Migration from rural to urban areas has been an important dynamic in India's recent history. The number of people living in urban areas grew by 31.2% between 1991 and 2001. Yet, in 2001, over 70% still lived in rural areas. The level of urbanisation increased further from 27.81% in the 2001 Census to 31.16% in the 2011 Census. The slowing down of the overall population growth rate was due to the sharp decline in the growth rate in rural areas since 1991. According to the 2011 census, there are 53 million-plus urban agglomerations in India; among them Mumbai, Delhi, Kolkata, Chennai, Bengaluru, Hyderabad and Ahmedabad, in decreasing order by population. The literacy rate in 2011 was 74.04%: 65.46% among females and 82.14% among males. The rural-urban literacy gap, which was 21.2 percentage points in 2001, dropped to 16.1 percentage points in 2011. The improvement in the rural literacy rate is twice that of urban areas. Kerala is the most literate state with 93.91% literacy; while Bihar the least with 63.82%.\\n\\nAmong speakers of the Indian languages, 74% speak Indo-Aryan languages, the easternmost branch of the Indo-European languages; 24% speak Dravidian languages, indigenous to South Asia and spoken widely before the spread of Indo-Aryan languages and 2% speak Austroasiatic languages or the Sino-Tibetan languages. India has no national language. Hindi, with the largest number of speakers, is the official language of the government. English is used extensively in business and administration and has the status of a \\\"subsidiary official language\\\"; it is important in education, especially as a medium of higher education. Each state and union territory has one or more official languages, and the constitution recognises in particular 22 \\\"scheduled languages\\\".\\nThe 2011 census reported the religion in India with the largest number of followers was Hinduism (79.80% of the population), followed by Islam (14.23%); the remaining were Christianity (2.30%), Sikhism (1.72%), Buddhism (0.70%), Jainism (0.36%) and others (0.9%). India has the third-largest Muslim population\\u2014the largest for a non-Muslim majority country.\\n\\nCulture\\nIndian cultural history spans more than 4,500 years. During the Vedic period (c.\\u20091700 BCE \\u2013 c.\\u2009500 BCE), the foundations of Hindu philosophy, mythology, theology and literature were laid, and many beliefs and practices which still exist today, such as dh\\u00e1rma, k\\u00e1rma, y\\u00f3ga, and mok\\u1e63a, were established. India is notable for its religious diversity, with Hinduism, Buddhism, Sikhism, Islam, Christianity, and Jainism among the nation's major religions. The predominant religion, Hinduism, has been shaped by various historical schools of thought, including those of the Upanishads, the Yoga Sutras, the Bhakti movement, and by Buddhist philosophy.\\n\\nVisual art\\nIndia has a very ancient tradition of art, which has exchanged many influences with the rest of Eurasia, especially in the first millennium, when Buddhist art spread with Indian religions to Central, East and Southeast Asia, the last also greatly influenced by Hindu art. Thousands of seals from the Indus Valley Civilization of the third millennium BCE have been found, usually carved with animals, but a few with human figures. The \\\"Pashupati\\\" seal, excavated in Mohenjo-daro, Pakistan, in 1928\\u201329, is the best known. After this there is a long period with virtually nothing surviving. Almost all surviving ancient Indian art thereafter is in various forms of religious sculpture in durable materials, or coins. There was probably originally far more in wood, which is lost. In north India Mauryan art is the first imperial movement. In the first millennium CE, Buddhist art spread with Indian religions to Central, East and Southeast Asia, the last also greatly influenced by Hindu art. Over the following centuries a distinctly Indian style of sculpting the human figure developed, with less interest in articulating precise anatomy than ancient Greek sculpture but showing smoothly flowing forms expressing prana (\\\"breath\\\" or life-force). This is often complicated by the need to give figures multiple arms or heads, or represent different genders on the left and right of figures, as with the Ardhanarishvara form of Shiva and Parvati.\\nMost of the earliest large sculpture is Buddhist, either excavated from Buddhist stupas such as Sanchi, Sarnath and Amaravati, or is rock cut reliefs at sites such as Ajanta, Karla and Ellora. Hindu and Jain sites appear rather later. In spite of this complex mixture of religious traditions, generally, the prevailing artistic style at any time and place has been shared by the major religious groups, and sculptors probably usually served all communities. Gupta art, at its peak c.\\u2009300 CE \\u2013 c.\\u2009500 CE, is often regarded as a classical period whose influence lingered for many centuries after; it saw a new dominance of Hindu sculpture, as at the Elephanta Caves. Across the north, this became rather stiff and formulaic after c.\\u2009800 CE, though rich with finely carved detail in the surrounds of statues. But in the South, under the Pallava and Chola dynasties, sculpture in both stone and bronze had a sustained period of great achievement; the large bronzes with Shiva as Nataraja have become an iconic symbol of India.\\nAncient painting has only survived at a few sites, of which the crowded scenes of court life in the Ajanta Caves are by far the most important, but it was evidently highly developed, and is mentioned as a courtly accomplishment in Gupta times. Painted manuscripts of religious texts survive from Eastern India about the 10th century onwards, most of the earliest being Buddhist and later Jain. No doubt the style of these was used in larger paintings. The Persian-derived Deccan painting, starting just before the Mughal miniature, between them give the first large body of secular painting, with an emphasis on portraits, and the recording of princely pleasures and wars. The style spread to Hindu courts, especially among the Rajputs, and developed a variety of styles, with the smaller courts often the most innovative, with figures such as Nih\\u00e2l Chand and Nainsukh. As a market developed among European residents, it was supplied by Company painting by Indian artists with considerable Western influence. In the 19th century, cheap Kalighat paintings of gods and everyday life, done on paper, were urban folk art from Calcutta, which later saw the Bengal School of Art, reflecting the art colleges founded by the British, the first movement in modern Indian painting.\\n\\nArchitecture\\nMuch of Indian architecture, including the Taj Mahal, other works of Indo-Islamic Mughal architecture, and South Indian architecture, blends ancient local traditions with imported styles. Vernacular architecture is also regional in its flavours. Vastu shastra, literally \\\"science of construction\\\" or \\\"architecture\\\" and ascribed to Mamuni Mayan, explores how the laws of nature affect human dwellings; it employs precise geometry and directional alignments to reflect perceived cosmic constructs. As applied in Hindu temple architecture, it is influenced by the Shilpa Shastras, a series of foundational texts whose basic mythological form is the Vastu-Purusha mandala, a square that embodied the \\\"absolute\\\". The Taj Mahal, built in Agra between 1631 and 1648 by orders of Mughal emperor Shah Jahan in memory of his wife, has been described in the UNESCO World Heritage List as \\\"the jewel of Muslim art in India and one of the universally admired masterpieces of the world's heritage\\\". Indo-Saracenic Revival architecture, developed by the British in the late 19th century, drew on Indo-Islamic architecture.\\n\\nLiterature\\nThe earliest literature in India, composed between 1500 BCE and 1200 CE, was in the Sanskrit language. Major works of Sanskrit literature include the Rigveda (c.\\u20091500 BCE \\u2013 c.\\u20091200 BCE), the epics: Mah\\u0101bh\\u0101rata (c.\\u2009400 BCE \\u2013 c.\\u2009400 CE) and the Ramayana (c.\\u2009300 BCE and later); Abhij\\u00f1\\u0101na\\u015b\\u0101kuntalam (The Recognition of \\u015aakuntal\\u0101, and other dramas of K\\u0101lid\\u0101sa (c.\\u20095th century CE) and Mah\\u0101k\\u0101vya poetry. In Tamil literature, the Sangam literature (c.\\u2009600 BCE \\u2013 c.\\u2009300 BCE) consisting of 2,381 poems, composed by 473 poets, is the earliest work. From the 14th to the 18th centuries, India's literary traditions went through a period of drastic change because of the emergence of devotional poets like Kab\\u012br, Tuls\\u012bd\\u0101s, and Guru N\\u0101nak. This period was characterised by a varied and wide spectrum of thought and expression; as a consequence, medieval Indian literary works differed significantly from classical traditions. In the 19th century, Indian writers took a new interest in social questions and psychological descriptions. In the 20th century, Indian literature was influenced by the works of Rabindranath Tagore, who was a recipient of the Nobel Prize in Literature.\\n\\nPerforming arts and media\\nIndian music ranges over various traditions and regional styles. Classical music encompasses two genres and their various folk offshoots: the northern Hindustani and the southern Carnatic schools. Regionalised popular forms include filmi and folk music; the syncretic tradition of the bauls is a well-known form of the latter. Indian dance also features diverse folk and classical forms. Among the better-known folk dances are: bhangra of Punjab, bihu of Assam, Jhumair and chhau of Jharkhand, Odisha and West Bengal, garba and dandiya of Gujarat, ghoomar of Rajasthan, and lavani of Maharashtra. Eight dance forms, many with narrative forms and mythological elements, have been accorded classical dance status by India's National Academy of Music, Dance, and Drama. These are: bharatanatyam of the state of Tamil Nadu, kathak of Uttar Pradesh, kathakali and mohiniyattam of Kerala, kuchipudi of Andhra Pradesh, manipuri of Manipur, odissi of Odisha, and the sattriya of Assam.\\nTheatre in India melds music, dance, and improvised or written dialogue. Often based on Hindu mythology, but also borrowing from medieval romances or social and political events, Indian theatre includes: the bhavai of Gujarat, the jatra of West Bengal, the nautanki and ramlila of North India, tamasha of Maharashtra, burrakatha of Andhra Pradesh and Telangana, terukkuttu of Tamil Nadu, and the yakshagana of Karnataka. India has a theatre training institute, the National School of Drama (NSD), in New Delhi.\\nThe Indian film industry produces the world's most-watched cinema. Established regional cinematic traditions exist in the Assamese, Bengali, Bhojpuri, Hindi, Kannada, Malayalam, Punjabi, Gujarati, Marathi, Odia, Tamil, and Telugu languages. The Hindi language film industry (Bollywood) is the largest sector representing 43% of box office revenue, followed by the South Indian Telugu and Tamil film industries which represent 36% combined.\\nTelevision broadcasting began in India in 1959 as a state-run medium of communication and expanded slowly for more than two decades. The state monopoly on television broadcast ended in the 1990s. Since then, satellite channels have increasingly shaped the popular culture of Indian society. Today, television is the most penetrative media in India; industry estimates indicate that as of 2012 there are over 554 million TV consumers, 462 million with satellite or cable connections compared to other forms of mass media such as the press (350 million), radio (156 million) or internet (37 million).\\n\\nSociety\\nTraditional Indian society is sometimes defined by social hierarchy. The Indian caste system embodies much of the social stratification and many of the social restrictions found on the Indian subcontinent. Social classes are defined by thousands of endogamous hereditary groups, often termed as j\\u0101tis, or \\\"castes\\\". India abolished untouchability in 1950 with the adoption of the constitution and has since enacted other anti-discriminatory laws and social welfare initiatives.\\nFamily values are important in the Indian tradition, and multi-generational patrilineal joint families have been the norm in India, though nuclear families are becoming common in urban areas. An overwhelming majority of Indians, with their consent, have their marriages arranged by their parents or other family elders. Marriage is thought to be for life, and the divorce rate is extremely low, with less than one in a thousand marriages ending in divorce. Child marriages are common, especially in rural areas; many women wed before reaching 18, which is their legal marriageable age. Female infanticide in India, and lately female foeticide, have created skewed gender ratios; the number of missing women in the country quadrupled from 15 million to 63 million in the 50-year period ending in 2014, faster than the population growth during the same period. According to an Indian government study, an additional 21 million girls are unwanted and do not receive adequate care. Despite a government ban on sex-selective foeticide, the practice remains commonplace in India, the result of a preference for boys in a patriarchal society. The payment of dowry, although illegal, remains widespread across class lines. Deaths resulting from dowry, mostly from bride burning, are on the rise, despite stringent anti-dowry laws.\\nMany Indian festivals are religious in origin. The best known include Diwali, Ganesh Chaturthi, Thai Pongal, Holi, Durga Puja, Eid ul-Fitr, Bakr-Id, Christmas, and Vaisakhi.\\n\\nEducation\\nIn the 2011 census, about 73% of the population was literate, with 81% for men and 65% for women. This compares to 1981 when the respective rates were 41%, 53% and 29%. In 1951 the rates were 18%, 27% and 9%. In 1921 the rates 7%, 12% and 2%. In 1891 they were 5%, 9% and 1%, According to Latika Chaudhary, in 1911 there were under three primary schools for every ten villages. Statistically, more caste and religious diversity reduced private spending. Primary schools taught literacy, so local diversity limited its growth.\\nThe education system of India is the world's second-largest. India has over 900 universities, 40,000 colleges and 1.5 million schools. In India's higher education system, a significant number of seats are reserved under affirmative action policies for the historically disadvantaged. In recent decades India's improved education system is often cited as one of the main contributors to its economic development.\\n\\nClothing\\nFrom ancient times until the advent of the modern, the most widely worn traditional dress in India was draped. For women it took the form of a sari, a single piece of cloth many yards long. The sari was traditionally wrapped around the lower body and the shoulder. In its modern form, it is combined with an underskirt, or Indian petticoat, and tucked in the waist band for more secure fastening. It is also commonly worn with an Indian blouse, or choli, which serves as the primary upper-body garment, the sari's end\\u2014passing over the shoulder\\u2014covering the midriff and obscuring the upper body's contours. For men, a similar but shorter length of cloth, the dhoti, has served as a lower-body garment.\\nThe use of stitched clothes became widespread after Muslim rule was established at first by the Delhi sultanate (c.\\u20091300 CE) and then continued by the Mughal Empire (c.\\u20091525 CE). Among the garments introduced during this time and still commonly worn are: the shalwars and pyjamas, both styles of trousers, and the tunics kurta and kameez. In southern India, the traditional draped garments were to see much longer continuous use.\\n\\nSalwars are atypically wide at the waist but narrow to a cuffed bottom. They are held up by a drawstring, which causes them to become pleated around the waist. The pants can be wide and baggy, or they can be cut quite narrow, on the bias, in which case they are called churidars. When they are ordinarily wide at the waist and their bottoms are hemmed but not cuffed, they are called pyjamas. The kameez is a long shirt or tunic, its side seams left open below the waistline. The kurta is traditionally collarless and made of cotton or silk; it is worn plain or with embroidered decoration, such as chikan; and typically falls to either just above or just below the wearer's knees.\\nIn the last 50 years, fashions have changed a great deal in India. Increasingly, in urban northern India, the sari is no longer the apparel of everyday wear, though they remain popular on formal occasions. The traditional shalwar kameez is rarely worn by younger urban women, who favour churidars or jeans. In office settings, ubiquitous air conditioning allows men to wear sports jackets year-round. For weddings and formal occasions, men in the middle- and upper classes often wear bandgala, or short Nehru jackets, with pants, with the groom and his groomsmen sporting sherwanis and churidars. The dhoti, once the universal garment of Hindu males, the wearing of which in the homespun and handwoven khadi allowed Gandhi to bring Indian nationalism to the millions,\\nis seldom seen in the cities.\\n\\nCuisine\\nThe foundation of a typical Indian meal is a cereal cooked in a plain fashion and complemented with flavourful savoury dishes. The cooked cereal could be steamed rice; chapati, a thin unleavened bread; the idli, a steamed breakfast cake; or dosa, a griddled pancake. The savoury dishes might include lentils, pulses and vegetables commonly spiced with ginger and garlic, but also with a combination of spices that may include coriander, cumin, turmeric, cinnamon, cardamon and others. They might also include poultry, fish, or meat dishes. In some instances, the ingredients might be mixed during the process of cooking.\\nA platter, or thali, used for eating usually has a central place reserved for the cooked cereal, and peripheral ones for the flavourful accompaniments. The cereal and its accompaniments are eaten simultaneously rather than a piecemeal manner. This is accomplished by mixing\\u2014for example of rice and lentils\\u2014or folding, wrapping, scooping or dipping\\u2014such as chapati and cooked vegetables.\\n\\nIndia has distinctive vegetarian cuisines, each a feature of the geographical and cultural histories of its adherents. The appearance of ahimsa, or the avoidance of violence toward all forms of life in many religious orders early in Indian history, especially Upanishadic Hinduism, Buddhism and Jainism, is thought to have contributed to the predominance of vegetarianism among a large segment of India's Hindu population, especially in southern India, Gujarat, the Hindi-speaking belt of north-central India, as well as among Jains. Although meat is eaten widely in India, the proportional consumption of meat in the overall diet is low. Unlike China, which has increased its per capita meat consumption substantially in its years of increased economic growth, in India the strong dietary traditions have contributed to dairy, rather than meat, becoming the preferred form of animal protein consumption.\\nThe most significant import of cooking techniques into India during the last millennium occurred during the Mughal Empire. Dishes such as the pilaf, developed in the Abbasid caliphate, and cooking techniques such as the marinating of meat in yogurt, spread into northern India from regions to its northwest. To the simple yogurt marinade of Persia, onions, garlic, almonds, and spices began to be added in India. Rice was partially cooked and layered alternately with the sauteed meat, the pot sealed tightly, and slow cooked according to another Persian cooking technique, to produce what has today become biryani, a feature of festive dining in many parts of India. In the food served in Indian restaurants worldwide the diversity of Indian food has been partially concealed by the dominance of Punjabi cuisine. The popularity of tandoori chicken\\u2014cooked in the tandoor oven, which had traditionally been used for baking bread in the rural Punjab and the Delhi region, especially among Muslims, but which is originally from Central Asia\\u2014dates to the 1950s, and was caused in large part by an entrepreneurial response among people from the Punjab who had been displaced by the 1947 partition.\\n\\nSports and recreation\\nSeveral traditional sports\\u2014such as kabaddi, kho kho, pehlwani, gilli-danda, hopscotch and martial arts such as Kalarippayattu and marma adi\\u2014remain popular. Chess is commonly held to have originated in India as chatura\\u1e45ga; in recent years, there has been a rise in the number of Indian grandmasters, and world champions. Parcheesi is derived from Pachisi, another traditional Indian pastime, which in early modern times was played on a giant marble court by Mughal emperor Akbar the Great.\\nCricket is the most popular sport in India. India has won two Cricket World Cups, the 1983 edition and the 2011 edition. India has won eight field hockey gold medals in the summer Olympics.\\nIndia has participated in shooting sports and has won several medals at the Olympics, the World Shooting Championships, and the Commonwealth Games. Other sports in which Indians have succeeded internationally include badminton, boxing, and wrestling. Football is popular in West Bengal, Goa, Tamil Nadu, Kerala, and the north-eastern states. The major domestic league is the Indian Premier League. Professional leagues in other sports include the Indian Super League (football) and the Pro Kabaddi League.\\n\\nSee also\\nAdministrative divisions of India\\nOutline of India\\n\\nNotes\\nReferences\\nBibliography\\nOverview\\nEtymology\\nHistory\\nGeography\\nBiodiversity\\nPolitics\\nForeign relations and military\\nEconomy\\nDemographics\\nArt\\nCulture\\nExternal links\\n\\nGovernment\\n\\nOfficial website of the Government of India\\nGovernment of India Web Directory\\nGeneral information\\n\\nIndia. The World Factbook. Central Intelligence Agency.\\nIndia web resources provided by GovPubs at the University of Colorado Boulder Libraries\\nIndia from BBC News\\n Wikimedia Atlas of India\\n Geographic data related to India at OpenStreetMap\\nKey Development Forecasts for India from International Futures\\n----\\n\"]\n"
     ]
    }
   ],
   "source": [
    "import json\n",
    "print(json.dumps([txt]))"
   ]
  },
  {
   "cell_type": "code",
   "execution_count": 17,
   "metadata": {},
   "outputs": [
    {
     "name": "stdout",
     "output_type": "stream",
     "text": [
      "START: loading models\n",
      "model device: cuda:0\n",
      "DONE: loading models\n",
      "START: tokenizing input\n",
      "DONE: tokenizing input\n",
      "START: knowledge graph extration\n"
     ]
    },
    {
     "name": "stderr",
     "output_type": "stream",
     "text": [
      "100%|██████████| 23/23 [00:26<00:00,  1.17s/it]"
     ]
    },
    {
     "name": "stdout",
     "output_type": "stream",
     "text": [
      "DONE: knowledge graph extration\n",
      "START: make knowledge graph table\n",
      "DONE: make knowledge graph table\n"
     ]
    },
    {
     "name": "stderr",
     "output_type": "stream",
     "text": [
      "\n"
     ]
    }
   ],
   "source": [
    "from rebel.rebel import extract_knowledge_graph\n",
    "\n",
    "relations = extract_knowledge_graph(\n",
    "    txt,\n",
    "    64,\n",
    "    10, \n",
    "    torch.device('cuda') if torch.cuda.is_available() else torch.device('cpu'),\n",
    "    True,\n",
    "    1\n",
    ")"
   ]
  },
  {
   "cell_type": "code",
   "execution_count": 18,
   "metadata": {},
   "outputs": [
    {
     "data": {
      "text/plain": [
       "475"
      ]
     },
     "execution_count": 18,
     "metadata": {},
     "output_type": "execute_result"
    }
   ],
   "source": [
    "len(relations)"
   ]
  },
  {
   "cell_type": "code",
   "execution_count": 19,
   "metadata": {},
   "outputs": [],
   "source": [
    "import pandas as pd\n",
    "df = pd.DataFrame(relations, columns=['head', 'relation', 'tail'])\n",
    "df.index.name = 'id'\n",
    "df.to_csv(\"data/india_kb.csv\")"
   ]
  },
  {
   "cell_type": "code",
   "execution_count": 20,
   "metadata": {},
   "outputs": [
    {
     "data": {
      "text/html": [
       "<div>\n",
       "<style scoped>\n",
       "    .dataframe tbody tr th:only-of-type {\n",
       "        vertical-align: middle;\n",
       "    }\n",
       "\n",
       "    .dataframe tbody tr th {\n",
       "        vertical-align: top;\n",
       "    }\n",
       "\n",
       "    .dataframe thead th {\n",
       "        text-align: right;\n",
       "    }\n",
       "</style>\n",
       "<table border=\"1\" class=\"dataframe\">\n",
       "  <thead>\n",
       "    <tr style=\"text-align: right;\">\n",
       "      <th></th>\n",
       "      <th>head</th>\n",
       "      <th>relation</th>\n",
       "      <th>tail</th>\n",
       "    </tr>\n",
       "    <tr>\n",
       "      <th>id</th>\n",
       "      <th></th>\n",
       "      <th></th>\n",
       "      <th></th>\n",
       "    </tr>\n",
       "  </thead>\n",
       "  <tbody>\n",
       "    <tr>\n",
       "      <th>0</th>\n",
       "      <td>Karnataka</td>\n",
       "      <td>part of</td>\n",
       "      <td>North India</td>\n",
       "    </tr>\n",
       "    <tr>\n",
       "      <th>1</th>\n",
       "      <td>legislature of India</td>\n",
       "      <td>has part</td>\n",
       "      <td>lower house</td>\n",
       "    </tr>\n",
       "    <tr>\n",
       "      <th>2</th>\n",
       "      <td>Executive</td>\n",
       "      <td>part of</td>\n",
       "      <td>Government of India</td>\n",
       "    </tr>\n",
       "    <tr>\n",
       "      <th>3</th>\n",
       "      <td>early medieval age</td>\n",
       "      <td>end time</td>\n",
       "      <td>1200</td>\n",
       "    </tr>\n",
       "    <tr>\n",
       "      <th>4</th>\n",
       "      <td>Tamil literature</td>\n",
       "      <td>has part</td>\n",
       "      <td>Sangam literature</td>\n",
       "    </tr>\n",
       "    <tr>\n",
       "      <th>...</th>\n",
       "      <td>...</td>\n",
       "      <td>...</td>\n",
       "      <td>...</td>\n",
       "    </tr>\n",
       "    <tr>\n",
       "      <th>470</th>\n",
       "      <td>higher education</td>\n",
       "      <td>subclass of</td>\n",
       "      <td>education</td>\n",
       "    </tr>\n",
       "    <tr>\n",
       "      <th>471</th>\n",
       "      <td>1965 war with Pakistan</td>\n",
       "      <td>point in time</td>\n",
       "      <td>1965</td>\n",
       "    </tr>\n",
       "    <tr>\n",
       "      <th>472</th>\n",
       "      <td>Mahanadi</td>\n",
       "      <td>mouth of the watercourse</td>\n",
       "      <td>Bay of Bengal</td>\n",
       "    </tr>\n",
       "    <tr>\n",
       "      <th>473</th>\n",
       "      <td>wheat</td>\n",
       "      <td>subclass of</td>\n",
       "      <td>agricultural products</td>\n",
       "    </tr>\n",
       "    <tr>\n",
       "      <th>474</th>\n",
       "      <td>child labour</td>\n",
       "      <td>subclass of</td>\n",
       "      <td>modern slavery</td>\n",
       "    </tr>\n",
       "  </tbody>\n",
       "</table>\n",
       "<p>475 rows × 3 columns</p>\n",
       "</div>"
      ],
      "text/plain": [
       "                       head                  relation                   tail\n",
       "id                                                                          \n",
       "0                 Karnataka                   part of            North India\n",
       "1      legislature of India                  has part            lower house\n",
       "2                 Executive                   part of    Government of India\n",
       "3        early medieval age                  end time                   1200\n",
       "4          Tamil literature                  has part      Sangam literature\n",
       "..                      ...                       ...                    ...\n",
       "470        higher education               subclass of              education\n",
       "471  1965 war with Pakistan             point in time                   1965\n",
       "472                Mahanadi  mouth of the watercourse          Bay of Bengal\n",
       "473                   wheat               subclass of  agricultural products\n",
       "474            child labour               subclass of         modern slavery\n",
       "\n",
       "[475 rows x 3 columns]"
      ]
     },
     "execution_count": 20,
     "metadata": {},
     "output_type": "execute_result"
    }
   ],
   "source": [
    "df"
   ]
  },
  {
   "cell_type": "code",
   "execution_count": 21,
   "metadata": {},
   "outputs": [
    {
     "data": {
      "text/plain": [
       "{('1891', 'point in time', '1891'),\n",
       " ('1921', 'point in time', '1921'),\n",
       " ('1947', 'point in time', '1947'),\n",
       " ('1947 partition', 'point in time', '1947'),\n",
       " ('1951', 'point in time', '1951'),\n",
       " ('1965', 'point in time', '1965'),\n",
       " ('1965 war', 'participant', 'Pakistan'),\n",
       " ('1965 war', 'point in time', '1965'),\n",
       " ('1965 war with Pakistan', 'point in time', '1965'),\n",
       " ('1971 war', 'point in time', '1971'),\n",
       " ('1981', 'point in time', '1981'),\n",
       " ('1991', 'point in time', '1991'),\n",
       " ('2001', 'point in time', '2001'),\n",
       " ('2001 Census', 'followed by', '2011 Census'),\n",
       " ('2004 Indian general elections', 'point in time', '2004'),\n",
       " ('2009 general election', 'point in time', '2009'),\n",
       " ('2011 Census', 'follows', '2001 Census'),\n",
       " ('2011 census', 'point in time', '2011'),\n",
       " ('2014 general election', 'successful candidate', 'Manmohan Singh'),\n",
       " ('2019 general election', 'office contested', 'prime minister of India'),\n",
       " ('ASEAN', 'has part', 'Japan'),\n",
       " ('ASEAN', 'has part', 'South Korea'),\n",
       " ('Achaemenid Empire',\n",
       "  'contains administrative territorial entity',\n",
       "  'Hindush'),\n",
       " ('Ahmedabad', 'country', 'India'),\n",
       " ('Akbar', 'country of citizenship', 'Mughals'),\n",
       " ('Amaravati', 'instance of', 'Buddhist stupa'),\n",
       " ('Andaman', 'shares border with', 'Lakshadweep'),\n",
       " ('Andaman', 'shares border with', 'Nicobar'),\n",
       " ('Andaman Islands',\n",
       "  'located in the administrative territorial entity',\n",
       "  'India'),\n",
       " ('Andaman and Nicobar Islands',\n",
       "  'located in or next to body of water',\n",
       "  'Andaman Sea'),\n",
       " ('Andhra Pradesh', 'part of', 'North India'),\n",
       " ('Andhra Pradesh', 'shares border with', 'Andhra Pradesh'),\n",
       " ('Andhra Pradesh', 'shares border with', 'Kerala'),\n",
       " ('Andhra Pradesh', 'shares border with', 'Tamil Nadu'),\n",
       " ('Arabian Sea', 'part of', 'Indian Ocean'),\n",
       " ('Arabian Sea', 'tributary', 'Narmada'),\n",
       " ('Arabian Sea', 'tributary', 'Tapti'),\n",
       " ('Arihant-class', 'subclass of', 'nuclear submarine'),\n",
       " ('Bakr-Id', 'instance of', 'religious in origin'),\n",
       " ('Balochistan', 'country', 'Pakistan'),\n",
       " ('Bay of Bengal', 'part of', 'Indian Ocean'),\n",
       " ('Bay of Bengal', 'tributary', 'Godavari'),\n",
       " ('Bay of Bengal', 'tributary', 'Kaveri'),\n",
       " ('Bay of Bengal', 'tributary', 'Krishna'),\n",
       " ('Bay of Bengal', 'tributary', 'Mahanadi'),\n",
       " ('Bengal School of Art',\n",
       "  'located in the administrative territorial entity',\n",
       "  'Calcutta'),\n",
       " ('Bengaluru', 'country', 'India'),\n",
       " ('Bhakti movement', 'part of', 'Buddhist philosophy'),\n",
       " ('Bharatiya Janata Party', 'follows', 'Indian National Congress'),\n",
       " ('Bihar', 'shares border with', 'Kerala'),\n",
       " ('Brahmaputra', 'mouth of the watercourse', 'Ganges'),\n",
       " ('British Indian Empire', 'dissolved, abolished or demolished date', '1947'),\n",
       " ('British Indian Empire', 'replaced by', 'Pakistan'),\n",
       " ('Brunei', 'part of', 'Southeast Asia'),\n",
       " ('Buddhist art', 'influenced by', 'Hindu art'),\n",
       " ('Buddhist philosophy', 'has part', 'Bhakti movement'),\n",
       " ('Buddhist philosophy', 'has part', 'Yoga Sutras'),\n",
       " ('Cambodia', 'part of', 'Southeast Asia'),\n",
       " ('Carnatic', 'instance of', 'genres'),\n",
       " ('Carnatic', 'subclass of', 'Classical music'),\n",
       " ('Central Asia', 'shares border with', 'West'),\n",
       " ('Chennai', 'country', 'India'),\n",
       " ('Chennai', 'twinned administrative body', 'New Delhi'),\n",
       " ('Cheras', 'religion', 'Hinduism'),\n",
       " ('Chief Justice of India', 'part of', 'supreme court'),\n",
       " ('China', 'shares border with', 'India'),\n",
       " ('China', 'shares border with', 'Pakistan'),\n",
       " ('Cholas', 'religion', 'Hinduism'),\n",
       " ('Chota Nagpur Plateau',\n",
       "  'located in the administrative territorial entity',\n",
       "  'Jharkhand'),\n",
       " ('Christmas', 'instance of', 'religious in origin'),\n",
       " ('Classical music', 'instance of', 'genres'),\n",
       " ('Climate change in India', 'country', 'India'),\n",
       " ('Constitution of India', 'country', 'India'),\n",
       " ('Deccan', 'part of', 'Indo-Gangetic Plain'),\n",
       " ('Deccan Plateau', 'instance of', 'peninsular'),\n",
       " ('Deccan Plateau', 'located on terrain feature', 'South India'),\n",
       " ('Deccan Plateau', 'mountain range', 'Himalayas'),\n",
       " ('Deccan painting', 'influenced by', 'Persian'),\n",
       " ('Delhi', 'country', 'India'),\n",
       " ('Delhi', 'located in the administrative territorial entity', 'India'),\n",
       " ('Delhi Ridge', 'mountain range', 'Aravalli range'),\n",
       " ('Delhi Sultanate', 'inception', '1206'),\n",
       " ('Delhi Sultanate', 'religion', 'Islam'),\n",
       " ('Delhi sultanate', 'country', 'Muslim rule'),\n",
       " ('Diwali', 'instance of', 'religious in origin'),\n",
       " ('Durga Puja', 'instance of', 'religious in origin'),\n",
       " ('East India Company', 'country', 'British Empire'),\n",
       " ('East India Company', 'dissolved, abolished or demolished date', '1858'),\n",
       " ('Eastern Ghats', 'located on terrain feature', 'Deccan Plateau'),\n",
       " ('Eid ul-Fitr', 'instance of', 'religious in origin'),\n",
       " ('Elephanta Caves', 'genre', 'Hindu sculpture'),\n",
       " ('English East India Company', 'instance of', 'trading companies'),\n",
       " ('Eurasian Plate', 'shares border with', 'Tethyan oceanic crust'),\n",
       " ('European Union', 'diplomatic relation', 'United States'),\n",
       " ('Executive', 'part of', 'Government of India'),\n",
       " ('Federalism in India', 'country', 'India'),\n",
       " ('Federation of American Scientists',\n",
       "  'subsidiary',\n",
       "  'Nuclear Information Project'),\n",
       " ('Female infanticide in India', 'country', 'India'),\n",
       " ('Forest Conservation Act', 'point in time', '1980'),\n",
       " ('France', 'diplomatic relation', 'Israel'),\n",
       " ('Ganesh Chaturthi', 'instance of', 'religious in origin'),\n",
       " ('Ganges', 'tributary', 'Brahmaputra'),\n",
       " ('Ganges', 'tributary', 'Kosi'),\n",
       " ('Ganges', 'tributary', 'Yamuna'),\n",
       " ('Gangetic Plain', 'has part', 'Punjab region'),\n",
       " ('Global Innovation Index', 'main subject', 'information technology'),\n",
       " ('Godavari', 'mouth of the watercourse', 'Bay of Bengal'),\n",
       " ('Gondwana', 'instance of', 'supercontinent'),\n",
       " ('Government of India', 'has part', 'Executive'),\n",
       " ('Government of India', 'has part', 'Judiciary'),\n",
       " ('Government of India', 'has part', 'Legislature'),\n",
       " ('Gujarat', 'located in the administrative territorial entity', 'India'),\n",
       " ('Gujarat', 'shares border with', 'Jharkhand'),\n",
       " ('Gujarat', 'shares border with', 'Rajasthan'),\n",
       " ('Gupta Empire', 'part of', 'South India'),\n",
       " ('Gupta art', 'part of', 'classical period'),\n",
       " ('Guru Nānak', 'genre', 'devotional poets'),\n",
       " ('H. D. Deve Gowda', 'member of political party', 'BJP'),\n",
       " ('Himalayas', 'country', 'India'),\n",
       " ('Hindi', 'indigenous to', 'Gujarat'),\n",
       " ('Hindi', 'indigenous to', 'India'),\n",
       " ('Hindu art', 'influenced by', 'Buddhist art'),\n",
       " ('Hindush', 'country', 'Achaemenid Empire'),\n",
       " ('Hindustani', 'instance of', 'genres'),\n",
       " ('Hindustani', 'subclass of', 'Classical music'),\n",
       " ('Holi', 'instance of', 'religious in origin'),\n",
       " ('Hyderabad', 'country', 'India'),\n",
       " ('I. K. Gujjendra', 'member of political party', 'BJP'),\n",
       " ('India', 'contains administrative territorial entity', 'Delhi'),\n",
       " ('India', 'contains administrative territorial entity', 'Gujarat'),\n",
       " ('India', 'contains administrative territorial entity', 'Punjab'),\n",
       " ('India', 'contains administrative territorial entity', 'West Bengal'),\n",
       " ('India', 'continent', 'Asia'),\n",
       " ('India', 'inception', '1947'),\n",
       " ('India', 'instance of', 'federal union'),\n",
       " ('India', 'instance of', 'major economy'),\n",
       " ('India', 'instance of', 'megadiverse country'),\n",
       " ('India', 'language used', 'Hindi'),\n",
       " ('India', 'located in or next to body of water', 'Arabian Sea'),\n",
       " ('India', 'located in or next to body of water', 'Bay of Bengal'),\n",
       " ('India', 'member of', 'Commonwealth of'),\n",
       " ('India', 'member of', 'Food and Agriculture Organization'),\n",
       " ('India', 'member of', 'World Bank'),\n",
       " ('India', 'member of', 'World Trade Organization'),\n",
       " ('India', 'office held by head of government', 'President of India'),\n",
       " ('India', 'part of', 'South Asia'),\n",
       " ('India', 'part of', \"world's fifth largest\"),\n",
       " ('India', 'part of', \"world's most populous country\"),\n",
       " ('India', 'ranking', '136th in the world'),\n",
       " ('India', 'shares border with', 'Bangladesh'),\n",
       " ('India', 'shares border with', 'Bhutan'),\n",
       " ('India', 'shares border with', 'China'),\n",
       " ('India', 'shares border with', 'Myanmar'),\n",
       " ('India', 'shares border with', 'Nepal'),\n",
       " ('India', 'shares border with', 'Pakistan'),\n",
       " ('Indian Army', 'part of', \"nation's armed forces\"),\n",
       " ('Indian National Congress', 'followed by', 'Bharatiya Janata Party'),\n",
       " ('Indian National Congress', 'inception', '1885'),\n",
       " ('Indian Ocean', 'has part', 'Arabian Sea'),\n",
       " ('Indian Ocean', 'has part', 'Bay of Bengal'),\n",
       " ('Indian Rebellion of 1857', 'point in time', '1857'),\n",
       " ('Indian Space Research Organisation', 'country', 'India'),\n",
       " ('Indian automotive industry', 'country', 'India'),\n",
       " ('Indian defence budget for 2011', 'point in time', '2011'),\n",
       " ('Indian film industry', 'industry', 'cinema'),\n",
       " ('Indian parliamentary system', 'has part', 'legislature'),\n",
       " ('Indian rupee', 'country', 'India'),\n",
       " ('Indian subcontinent', 'has part', 'Pakistan'),\n",
       " ('Indira Gandhi', 'child', 'Rajiv Gandhi'),\n",
       " ('Indira Gandhi', 'father', 'Jawaharlal Nehru'),\n",
       " ('Indo-Aryan languages', 'subclass of', 'Indo-European languages'),\n",
       " ('Indo-European language', 'has part', 'Sanskrit'),\n",
       " ('Indo-European languages', 'has part', 'Indo-Aryan languages'),\n",
       " ('Indo-Gangetic Plain', 'located on terrain feature', 'Eurasia'),\n",
       " ('Indo-Islamic culture', 'instance of', 'syncretic'),\n",
       " ('Indonesia', 'instance of', 'developing countries'),\n",
       " ('Indonesia', 'part of', 'Southeast Asia'),\n",
       " ('Indonesia', 'shares border with', 'Myanmar'),\n",
       " ('Indonesia', 'shares border with', 'Thailand'),\n",
       " ('Indus River', 'instance of', 'river'),\n",
       " ('Israel', 'diplomatic relation', 'France'),\n",
       " ('Jammu and Kashmir', 'instance of', 'union territories'),\n",
       " ('Jammu and Kashmir',\n",
       "  'located in the administrative territorial entity',\n",
       "  'India'),\n",
       " ('Janata Dal', 'part of', 'National Front'),\n",
       " ('Janata Party', 'inception', '1977'),\n",
       " ('Japan', 'diplomatic relation', 'South Korea'),\n",
       " ('Japan', 'diplomatic relation', 'United States'),\n",
       " ('Japan', 'member of', 'ASEAN'),\n",
       " ('Jawaharlal Nehru', 'child', 'Indira Gandhi'),\n",
       " ('Jharkhand', 'shares border with', 'Gujarat'),\n",
       " ('Jhumair', 'subclass of', 'Indian dance'),\n",
       " ('Judiciary', 'part of', 'Government of India'),\n",
       " ('Kabīr', 'genre', 'devotional poets'),\n",
       " ('Karnataka', 'part of', 'North India'),\n",
       " ('Kaveri', 'mouth of the watercourse', 'Bay of Bengal'),\n",
       " ('Kerala', 'shares border with', 'Andhra Pradesh'),\n",
       " ('Kerala', 'shares border with', 'Bihar'),\n",
       " ('Kerala', 'shares border with', 'Tamil Nadu'),\n",
       " ('Kolkata', 'country', 'India'),\n",
       " ('Kosi', 'mouth of the watercourse', 'Ganges'),\n",
       " ('Krishna', 'mouth of the watercourse', 'Bay of Bengal'),\n",
       " ('Lakshadweep', 'shares border with', 'Andaman'),\n",
       " ('Lakshadweep', 'shares border with', 'Nicobar'),\n",
       " ('Laos', 'part of', 'Southeast Asia'),\n",
       " ('Left Front', 'part of', 'National Front'),\n",
       " ('Legislature', 'part of', 'Government of India'),\n",
       " ('Lok Sabha', 'has part', 'Rajya Sabha'),\n",
       " ('Lord Dalhousie',\n",
       "  'position held',\n",
       "  'Governor General of the East India Company'),\n",
       " ('Mahanadi', 'mouth of the watercourse', 'Bay of Bengal'),\n",
       " ('Maharashtra', 'part of', 'North India'),\n",
       " ('Maharashtra', 'shares border with', 'Rajasthan'),\n",
       " ('Mahatma Gandhi', 'member of political party', 'Indian National Congress'),\n",
       " ('Mahavira', 'religion', 'Jainism'),\n",
       " ('Mahābhārata', 'instance of', 'epics'),\n",
       " ('Mahākāvya poetry', 'subclass of', 'Tamil literature'),\n",
       " ('Malaysia', 'instance of', 'developing countries'),\n",
       " ('Malaysia', 'part of', 'Southeast Asia'),\n",
       " ('Manipur', 'different from', 'Manipur'),\n",
       " ('Manmohan Singh', 'candidacy in election', '2014 general election'),\n",
       " ('Maurya', 'part of', 'South India'),\n",
       " ('Maurya Empire', 'replaces', 'Magadha'),\n",
       " ('Mauryan art', 'subclass of', 'ancient Indian art'),\n",
       " ('Mehrgarh', 'country', 'Pakistan'),\n",
       " ('Mohenjo-daro', 'country', 'Pakistan'),\n",
       " ('Mohenjo-daro', 'depicts', 'Ficus religiosa'),\n",
       " ('Mughal Empire', 'ethnic group', 'Muslim'),\n",
       " ('Mughal Empire', 'language used', 'Middle Persian'),\n",
       " ('Mughal rule', 'country', 'India'),\n",
       " ('Mumbai', 'country', 'India'),\n",
       " ('Myanmar', 'part of', 'Southeast Asia'),\n",
       " ('Myanmar', 'shares border with', 'Indonesia'),\n",
       " ('Myanmar', 'shares border with', 'Thailand'),\n",
       " ('Nainsukh', 'genre', 'Company painting'),\n",
       " ('Narendra Modi', 'candidacy in election', '2019 general election'),\n",
       " ('Narendra Modi', 'position held', 'prime minister of India'),\n",
       " ('Narmada', 'mouth of the watercourse', 'Arabian Sea'),\n",
       " ('Nataraja', 'spouse', 'Shiva'),\n",
       " ('National Capital Territory of Delhi', 'instance of', 'union territories'),\n",
       " ('National Democratic Alliance', 'inception', '1998'),\n",
       " ('National Front', 'has part', 'Janata Dal'),\n",
       " ('National Front', 'has part', 'Left Front'),\n",
       " ('New Delhi', 'twinned administrative body', 'Chennai'),\n",
       " ('Nicobar', 'shares border with', 'Andaman'),\n",
       " ('Nicobar', 'shares border with', 'Lakshadweep'),\n",
       " ('Nihâl Chand', 'genre', 'Company painting'),\n",
       " ('North India', 'has part', 'Andhra Pradesh'),\n",
       " ('North India', 'has part', 'Karnataka'),\n",
       " ('North India', 'has part', 'Maharashtra'),\n",
       " ('North India', 'has part', 'Tamil Nadu'),\n",
       " ('North India', 'has part', 'Telangana'),\n",
       " ('Northeast India', 'country', 'India'),\n",
       " ('Northeast India',\n",
       "  'located in the administrative territorial entity',\n",
       "  'India'),\n",
       " ('Nuclear Information Project',\n",
       "  'parent organization',\n",
       "  'Federation of American Scientists'),\n",
       " ('Odisha', 'shares border with', 'Uttar Pradesh'),\n",
       " ('Pakistan', 'contains administrative territorial entity', 'Balochistan'),\n",
       " ('Pakistan', 'part of', 'South Asia'),\n",
       " ('Pakistan', 'replaces', 'British Indian Empire'),\n",
       " ('Pakistan', 'shares border with', 'China'),\n",
       " ('Pakistan', 'shares border with', 'India'),\n",
       " ('Pandyas', 'followed by', 'Pallavas'),\n",
       " ('Pandyas', 'religion', 'Hinduism'),\n",
       " ('Parliament', 'country', 'Republic of India'),\n",
       " ('Parvati', 'spouse', 'Shiva'),\n",
       " ('Philippines', 'instance of', 'developing countries'),\n",
       " ('Philippines', 'part of', 'Southeast Asia'),\n",
       " ('Pongal', 'instance of', 'religious in origin'),\n",
       " ('President of India', 'country', 'India'),\n",
       " ('Prime Minister of India', 'subclass of', 'head of government'),\n",
       " ('Puducherry', 'instance of', 'union territories'),\n",
       " ('Punjab', 'country', 'India'),\n",
       " ('Punjab', 'located in the administrative territorial entity', 'India'),\n",
       " ('Punjab region', 'part of', 'Gangetic Plain'),\n",
       " ('Rabindranath Tagore', 'genre', 'Indian literature'),\n",
       " ('Rajasthan', 'shares border with', 'Gujarat'),\n",
       " ('Rajasthan', 'shares border with', 'Maharashtra'),\n",
       " ('Rajiv Gandhi',\n",
       "  'candidacy in election',\n",
       "  'general elections later that year'),\n",
       " ('Rajiv Gandhi', 'mother', 'Indira Gandhi'),\n",
       " ('Rajputs', 'religion', 'Hindu'),\n",
       " ('Rajya Sabha', 'instance of', 'upper house'),\n",
       " ('Rajya Sabha', 'part of', 'Lok Sabha'),\n",
       " ('Rajya Sabha', 'part of', 'legislature of India'),\n",
       " ('Ramayana', 'instance of', 'epics'),\n",
       " ('Republic of India', 'legislative body', 'Parliament'),\n",
       " ('Rigveda', 'language of work or name', 'Sanskrit language'),\n",
       " ('S-400 Triumf', 'subclass of', 'surface-to-air missile'),\n",
       " ('Salwar', 'subclass of', 'pants'),\n",
       " ('Sanchi', 'instance of', 'Buddhist stupa'),\n",
       " ('Sangam literature', 'subclass of', 'Tamil literature'),\n",
       " ('Sanskrit', 'subclass of', 'Indo-European language'),\n",
       " ('Sarnath', 'instance of', 'Buddhist stupa'),\n",
       " ('Shiva', 'spouse', 'Nataraja'),\n",
       " ('Shiva', 'spouse', 'Parvati'),\n",
       " ('Sikhism', 'country', 'India'),\n",
       " ('South Asia', 'has part', 'India'),\n",
       " ('South India', 'has part', 'northern India'),\n",
       " ('South Korea', 'diplomatic relation', 'Japan'),\n",
       " ('South Korea', 'member of', 'ASEAN'),\n",
       " ('Sri Lanka', 'instance of', 'developing countries'),\n",
       " ('Taj Mahal', 'located in the administrative territorial entity', 'Agra'),\n",
       " ('Tamil Nadu', 'part of', 'North India'),\n",
       " ('Tamil Nadu', 'shares border with', 'Andhra Pradesh'),\n",
       " ('Tamil Nadu', 'shares border with', 'Kerala'),\n",
       " ('Tamil language', 'country', 'India'),\n",
       " ('Tamil literature', 'has part', 'Mahākāvya poetry'),\n",
       " ('Tamil literature', 'has part', 'Sangam literature'),\n",
       " ('Tapti', 'mouth of the watercourse', 'Arabian Sea'),\n",
       " ('Telangana', 'part of', 'North India'),\n",
       " ('Television broadcasting', 'instance of', 'medium of communication'),\n",
       " ('Thailand', 'instance of', 'developing countries'),\n",
       " ('Thailand', 'part of', 'Southeast Asia'),\n",
       " ('Thailand', 'shares border with', 'Indonesia'),\n",
       " ('Thailand', 'shares border with', 'Myanmar'),\n",
       " ('Thar Desert', 'located on terrain feature', 'Indian subcontinent'),\n",
       " ('Theatre in India', 'country', 'India'),\n",
       " ('Tulsīdās', 'genre', 'devotional poets'),\n",
       " ('United States', 'diplomatic relation', 'European Union'),\n",
       " ('United States', 'diplomatic relation', 'Japan'),\n",
       " ('United States', 'instance of', 'major economy'),\n",
       " ('Upanishads', 'religion', 'Hinduism'),\n",
       " ('Uttar Pradesh', 'shares border with', 'Odisha'),\n",
       " ('Vedas', 'instance of', 'scriptures'),\n",
       " ('Vernacular architecture',\n",
       "  'has parts of the class',\n",
       "  'Vernacular architecture'),\n",
       " ('Vietnam', 'part of', 'Southeast Asia'),\n",
       " ('Vikrant-class', 'subclass of', 'aircraft carrier'),\n",
       " ('West', 'shares border with', 'Central Asia'),\n",
       " ('West Bengal', 'located in the administrative territorial entity', 'India'),\n",
       " ('Western', 'located on terrain feature', 'Deccan Plateau'),\n",
       " ('Western Ghats', 'country', 'India'),\n",
       " ('Wildlife Protection Act', 'point in time', '1972'),\n",
       " ('World Heritage List', 'maintained by', 'UNESCO'),\n",
       " ('World Network of Biosphere Reserves', 'is a list of', 'biosphere reserve'),\n",
       " ('World War I', 'followed by', 'a new period'),\n",
       " ('Worldwide Cost of Living Report',\n",
       "  'publisher',\n",
       "  'Economist Intelligence Unit'),\n",
       " ('Yamuna', 'mouth of the watercourse', 'Ganges'),\n",
       " ('Yoga Sutras', 'part of', 'Buddhist philosophy'),\n",
       " ('a new period', 'follows', 'World War I'),\n",
       " ('agriculture', 'practiced by', 'peasants'),\n",
       " ('annex or subdue most of India by the 1820s',\n",
       "  'follows',\n",
       "  'gain control over the Bengal region by 1765 and sideline the other European companies'),\n",
       " ('annex or subdue most of India by the 1820s', 'point in time', '1820'),\n",
       " ('bhangra', 'subclass of', 'Indian dance'),\n",
       " ('bihu', 'subclass of', 'Indian dance'),\n",
       " ('biryani', 'has part', 'Rice'),\n",
       " ('bonded labour', 'subclass of', 'modern slavery'),\n",
       " ('bride burning', 'subclass of', 'dowry'),\n",
       " ('carbon dioxide', 'subject has role', 'greenhouse gas'),\n",
       " ('cardamon', 'instance of', 'spices'),\n",
       " ('caste', 'facet of', 'Hinduism'),\n",
       " ('caste society', 'has part', 'ruling classes'),\n",
       " ('chapati', 'country of origin', 'India'),\n",
       " ('chhau', 'subclass of', 'Indian dance'),\n",
       " ('chikan', 'subclass of', 'embroidered decoration'),\n",
       " ('child labour', 'subclass of', 'modern slavery'),\n",
       " ('choli', 'subclass of', 'blouse'),\n",
       " ('churidar', 'subclass of', 'jeans'),\n",
       " ('cinema', 'language of work or name', 'Assamese'),\n",
       " ('cinema', 'language of work or name', 'Bengali'),\n",
       " ('cinema', 'language of work or name', 'Bhojpuri'),\n",
       " ('cinema', 'language of work or name', 'Gujarati'),\n",
       " ('cinema', 'language of work or name', 'Hindi'),\n",
       " ('cinema', 'language of work or name', 'Kannada'),\n",
       " ('cinema', 'language of work or name', 'Malayalam'),\n",
       " ('cinema', 'language of work or name', 'Marathi'),\n",
       " ('cinema', 'language of work or name', 'Punjabi'),\n",
       " ('cinema', 'production company', 'Indian film industry'),\n",
       " ('cinnamon', 'instance of', 'spices'),\n",
       " ('coal', 'has effect', 'greenhouse gas emissions by India'),\n",
       " ('colleges', 'different from', 'universities'),\n",
       " ('consolidated its sovereignty', 'inception', '1858'),\n",
       " ('constitution', 'inception', '1950'),\n",
       " ('coriander', 'instance of', 'spices'),\n",
       " ('cotton', 'subclass of', 'agricultural products'),\n",
       " ('crude oil', 'subclass of', 'petroleum product'),\n",
       " ('cumin', 'instance of', 'spices'),\n",
       " ('dairy', 'subclass of', 'animal protein'),\n",
       " ('dandiya', 'located in the administrative territorial entity', 'Gujarat'),\n",
       " ('democratic republic', 'different from', 'democratic republic'),\n",
       " ('devotion', 'facet of', 'Hinduism'),\n",
       " ('dhamma', 'part of', 'Buddhist'),\n",
       " ('dosa', 'subclass of', 'pancake'),\n",
       " ('draped', 'subclass of', 'Clothing'),\n",
       " ('early medieval age', 'end time', '1200'),\n",
       " ('eastern India', 'shares border with', 'southern'),\n",
       " ('education system of India', 'country', 'India'),\n",
       " ('federal union', 'has part', 'India'),\n",
       " ('female foeticide', 'subclass of', 'Female infanticide in India'),\n",
       " ('fifth-largest economy by market exchange rates',\n",
       "  'publisher',\n",
       "  'International Monetary Fund'),\n",
       " (\"four of the world's 34 biodiversity hotspots\", 'country', 'India'),\n",
       " ('gain control over the Bengal region by 1765 and sideline the other European companies',\n",
       "  'followed by',\n",
       "  'annex or subdue most of India by the 1820s'),\n",
       " ('gain control over the Bengal region by 1765 and sideline the other European companies',\n",
       "  'point in time',\n",
       "  '1765'),\n",
       " ('garba', 'located in the administrative territorial entity', 'Gujarat'),\n",
       " ('general election of 1996', 'point in time', '1996'),\n",
       " ('general elections later that year', 'successful candidate', 'Rajiv Gandhi'),\n",
       " ('generic medicines', 'subclass of', 'pharmaceutical companies'),\n",
       " ('ghoomar', 'located in the administrative territorial entity', 'Rajasthan'),\n",
       " ('greenhouse gas emissions by India', 'has cause', 'coal'),\n",
       " ('groomsmen', 'participant in', 'wedding'),\n",
       " ('higher education', 'subclass of', 'education'),\n",
       " ('human trafficking', 'subclass of', 'modern slavery'),\n",
       " ('independence in 1947', 'point in time', '1947'),\n",
       " ('industrial sector', 'opposite of', 'service sector'),\n",
       " ('internet', 'instance of', 'mass media'),\n",
       " ('irrigation', 'use', 'agricultural land'),\n",
       " ('irrigation tank', 'use', 'agriculture'),\n",
       " ('joint family', 'part of', 'patrilineal'),\n",
       " ('jute', 'subclass of', 'cotton'),\n",
       " ('jāti', 'subclass of', 'caste'),\n",
       " ('kamek', 'subclass of', 'tunic'),\n",
       " ('khadi', 'subclass of', 'homespun'),\n",
       " ('kurta', 'subclass of', 'tunic'),\n",
       " ('kárma', 'part of', 'Hindu philosophy'),\n",
       " ('lavani', 'located in the administrative territorial entity', 'Maharashtra'),\n",
       " ('legislature', 'part of', 'Indian parliamentary system'),\n",
       " ('legislature of India', 'has part', 'Rajya Sabha'),\n",
       " ('legislature of India', 'has part', 'lower house'),\n",
       " ('lentil', 'subclass of', 'pulses'),\n",
       " ('life expectancy in India', 'country', 'India'),\n",
       " ('longitude', 'opposite of', 'north latitude'),\n",
       " ('lower house', 'part of', 'legislature of India'),\n",
       " ('m', 'part of', 'Hindu philosophy'),\n",
       " ('major economy', 'has part', 'India'),\n",
       " ('major economy', 'has part', 'United States'),\n",
       " ('megadiverse country', 'has part', 'India'),\n",
       " ('middle class', 'country', 'India'),\n",
       " ('middle class', 'instance of', 'social classes'),\n",
       " ('middle classes', 'country', 'India'),\n",
       " ('military conflict in 1967', 'follows', 'war with China in 1962'),\n",
       " ('military conflict in 1967', 'point in time', '1967'),\n",
       " ('minimum Credible Deterrence', 'facet of', 'nuclear triad'),\n",
       " ('multi-ethnic', 'subclass of', 'society'),\n",
       " ('multilingual', 'subclass of', 'society'),\n",
       " (\"nation's armed forces\", 'country', 'India'),\n",
       " (\"nation's armed forces\", 'has part', 'Indian Army'),\n",
       " ('north latitude', 'opposite of', 'longitude'),\n",
       " ('oilseed', 'subclass of', 'agricultural products'),\n",
       " ('partition of India', 'point in time', '1947'),\n",
       " ('patrilineal', 'has part', 'joint family'),\n",
       " ('peasants', 'field of this occupation', 'agriculture'),\n",
       " ('per-capita net state domestic product of the richest states in 2007',\n",
       "  'point in time',\n",
       "  '2007'),\n",
       " ('piecemeal', 'subclass of', 'eating'),\n",
       " ('pilaf', 'country of origin', 'Abbasid caliphate'),\n",
       " ('pluralistic', 'subclass of', 'society'),\n",
       " ('popular culture', 'country', 'India'),\n",
       " ('population growth during the same period', 'point in time', '2014'),\n",
       " ('press', 'instance of', 'mass media'),\n",
       " ('prime minister of India', 'officeholder', 'Narendra Modi'),\n",
       " ('protectionist', 'influenced by', 'socialist economics'),\n",
       " ('radio', 'instance of', 'mass media'),\n",
       " ('republic', 'subclass of', 'federation'),\n",
       " ('republic', 'subclass of', 'parliamentary system'),\n",
       " ('rice', 'subclass of', 'agricultural products'),\n",
       " ('ruling classes', 'part of', 'caste society'),\n",
       " ('service sector', 'opposite of', 'industrial sector'),\n",
       " (\"share of external trade in India's GDP\", 'point in time', '2006'),\n",
       " ('single-member constituencies',\n",
       "  'subclass of',\n",
       "  'elected directly by popular vote'),\n",
       " ('sixth de facto nuclear weapons state',\n",
       "  'member of',\n",
       "  'International Atomic Energy Agency'),\n",
       " ('socio-economic challenges', 'country', 'India'),\n",
       " ('southern', 'shares border with', 'eastern India'),\n",
       " ('southern India', 'part of', 'South India'),\n",
       " ('special relationship', 'country', 'Soviet Union'),\n",
       " ('state', 'country', 'India'),\n",
       " ('supreme court',\n",
       "  'office held by head of the organization',\n",
       "  'Chief Justice of India'),\n",
       " ('telegraph', 'instance of', 'Technological'),\n",
       " ('third-largest Muslim population', 'country', 'India'),\n",
       " ('thorn forests',\n",
       "  'located in the administrative territorial entity',\n",
       "  'Punjab'),\n",
       " ('tun', 'subclass of', 'long shirt'),\n",
       " ('turmeric', 'instance of', 'spices'),\n",
       " ('union', 'country', 'India'),\n",
       " ('universities', 'different from', 'colleges'),\n",
       " ('war with China in 1962', 'participant', 'China'),\n",
       " ('war with China in 1962', 'point in time', '1962'),\n",
       " ('wedding', 'participant', 'groomsmen'),\n",
       " ('wheat', 'subclass of', 'agricultural products'),\n",
       " (\"world's fifth largest\", 'has part', 'India'),\n",
       " (\"world's most populous country\", 'has part', 'India'),\n",
       " ('yóga', 'part of', 'Hindu philosophy')}"
      ]
     },
     "execution_count": 21,
     "metadata": {},
     "output_type": "execute_result"
    }
   ],
   "source": [
    "relations"
   ]
  },
  {
   "cell_type": "code",
   "execution_count": null,
   "metadata": {},
   "outputs": [],
   "source": []
  },
  {
   "cell_type": "markdown",
   "metadata": {},
   "source": [
    "## India_kb visualization"
   ]
  },
  {
   "cell_type": "code",
   "execution_count": 1,
   "metadata": {},
   "outputs": [],
   "source": [
    "import pandas as pd\n",
    "import networkx as nx \n",
    "import matplotlib.pyplot as plt\n",
    "import numpy as np\n",
    "from pyvis.network import Network"
   ]
  },
  {
   "cell_type": "code",
   "execution_count": 5,
   "metadata": {},
   "outputs": [
    {
     "data": {
      "text/html": [
       "<div>\n",
       "<style scoped>\n",
       "    .dataframe tbody tr th:only-of-type {\n",
       "        vertical-align: middle;\n",
       "    }\n",
       "\n",
       "    .dataframe tbody tr th {\n",
       "        vertical-align: top;\n",
       "    }\n",
       "\n",
       "    .dataframe thead th {\n",
       "        text-align: right;\n",
       "    }\n",
       "</style>\n",
       "<table border=\"1\" class=\"dataframe\">\n",
       "  <thead>\n",
       "    <tr style=\"text-align: right;\">\n",
       "      <th></th>\n",
       "      <th>head</th>\n",
       "      <th>relation</th>\n",
       "      <th>tail</th>\n",
       "    </tr>\n",
       "  </thead>\n",
       "  <tbody>\n",
       "    <tr>\n",
       "      <th>0</th>\n",
       "      <td>Maharashtra</td>\n",
       "      <td>capital of</td>\n",
       "      <td>Mumbai</td>\n",
       "    </tr>\n",
       "    <tr>\n",
       "      <th>1</th>\n",
       "      <td>Mumbai</td>\n",
       "      <td>is capital of</td>\n",
       "      <td>Maharashtra</td>\n",
       "    </tr>\n",
       "    <tr>\n",
       "      <th>2</th>\n",
       "      <td>Karnataka</td>\n",
       "      <td>capital of</td>\n",
       "      <td>Bengaluru</td>\n",
       "    </tr>\n",
       "    <tr>\n",
       "      <th>3</th>\n",
       "      <td>Bengaluru</td>\n",
       "      <td>is capital of</td>\n",
       "      <td>Karnataka</td>\n",
       "    </tr>\n",
       "    <tr>\n",
       "      <th>4</th>\n",
       "      <td>Tamil Nadu</td>\n",
       "      <td>capital of</td>\n",
       "      <td>Chennai</td>\n",
       "    </tr>\n",
       "    <tr>\n",
       "      <th>...</th>\n",
       "      <td>...</td>\n",
       "      <td>...</td>\n",
       "      <td>...</td>\n",
       "    </tr>\n",
       "    <tr>\n",
       "      <th>491</th>\n",
       "      <td>Indian Postal Service</td>\n",
       "      <td>started during</td>\n",
       "      <td>British Rule</td>\n",
       "    </tr>\n",
       "    <tr>\n",
       "      <th>492</th>\n",
       "      <td>English Education</td>\n",
       "      <td>was introduced by</td>\n",
       "      <td>British</td>\n",
       "    </tr>\n",
       "    <tr>\n",
       "      <th>493</th>\n",
       "      <td>Indian Civil Service</td>\n",
       "      <td>was dominated by</td>\n",
       "      <td>British</td>\n",
       "    </tr>\n",
       "    <tr>\n",
       "      <th>494</th>\n",
       "      <td>Indian Army</td>\n",
       "      <td>was reorganized by</td>\n",
       "      <td>British</td>\n",
       "    </tr>\n",
       "    <tr>\n",
       "      <th>495</th>\n",
       "      <td>Indian Police</td>\n",
       "      <td>was established by</td>\n",
       "      <td>British</td>\n",
       "    </tr>\n",
       "  </tbody>\n",
       "</table>\n",
       "<p>496 rows × 3 columns</p>\n",
       "</div>"
      ],
      "text/plain": [
       "                      head            relation          tail\n",
       "0              Maharashtra          capital of        Mumbai\n",
       "1                   Mumbai       is capital of   Maharashtra\n",
       "2                Karnataka          capital of     Bengaluru\n",
       "3                Bengaluru       is capital of     Karnataka\n",
       "4               Tamil Nadu          capital of       Chennai\n",
       "..                     ...                 ...           ...\n",
       "491  Indian Postal Service      started during  British Rule\n",
       "492      English Education   was introduced by       British\n",
       "493   Indian Civil Service    was dominated by       British\n",
       "494            Indian Army  was reorganized by       British\n",
       "495          Indian Police  was established by       British\n",
       "\n",
       "[496 rows x 3 columns]"
      ]
     },
     "execution_count": 5,
     "metadata": {},
     "output_type": "execute_result"
    }
   ],
   "source": [
    "kb = pd.read_csv(\"data/india_kb_v2.csv\")\n",
    "kb"
   ]
  },
  {
   "cell_type": "code",
   "execution_count": 6,
   "metadata": {},
   "outputs": [
    {
     "data": {
      "text/plain": [
       "array([['Maharashtra', 'capital of', 'Mumbai'],\n",
       "       ['Mumbai', 'is capital of', 'Maharashtra'],\n",
       "       ['Karnataka', 'capital of', 'Bengaluru'],\n",
       "       ...,\n",
       "       ['Indian Civil Service', 'was dominated by', 'British'],\n",
       "       ['Indian Army', 'was reorganized by', 'British'],\n",
       "       ['Indian Police', 'was established by', 'British']],\n",
       "      shape=(496, 3), dtype=object)"
      ]
     },
     "execution_count": 6,
     "metadata": {},
     "output_type": "execute_result"
    }
   ],
   "source": [
    "kb.to_numpy()"
   ]
  },
  {
   "cell_type": "code",
   "execution_count": 7,
   "metadata": {},
   "outputs": [],
   "source": [
    "net = Network(directed=True)\n",
    "for item in pd.concat([kb['head'], kb['tail']]).unique():\n",
    "    net.add_node(item)\n",
    "for head, rel, tail in kb.to_numpy():\n",
    "    net.add_edge(head, tail, title=rel, label=rel)\n",
    "net.repulsion(\n",
    "    central_gravity=0.4, \n",
    "    spring_length=400,\n",
    "    node_distance=200\n",
    ")\n",
    "net.set_edge_smooth('dynamic')\n",
    "net.save_graph(\"demo_v2.html\")\n"
   ]
  },
  {
   "cell_type": "code",
   "execution_count": 8,
   "metadata": {},
   "outputs": [
    {
     "data": {
      "text/plain": [
       "(344,)"
      ]
     },
     "execution_count": 8,
     "metadata": {},
     "output_type": "execute_result"
    }
   ],
   "source": [
    "pd.concat([kb['head'], kb['tail']]).unique().shape"
   ]
  },
  {
   "cell_type": "code",
   "execution_count": 11,
   "metadata": {},
   "outputs": [],
   "source": [
    "G = nx.from_edgelist(zip(kb['head'], kb['tail']))"
   ]
  },
  {
   "cell_type": "code",
   "execution_count": 22,
   "metadata": {},
   "outputs": [],
   "source": [
    "components = list(nx.connected_components(G))"
   ]
  },
  {
   "cell_type": "code",
   "execution_count": 28,
   "metadata": {},
   "outputs": [
    {
     "data": {
      "text/plain": [
       "Text(0.5, 1.0, 'Size of each connected component')"
      ]
     },
     "execution_count": 28,
     "metadata": {},
     "output_type": "execute_result"
    },
    {
     "data": {
      "image/png": "[encoded data removed]",
      "text/plain": [
       "<Figure size 800x400 with 1 Axes>"
      ]
     },
     "metadata": {},
     "output_type": "display_data"
    }
   ],
   "source": [
    "plt.figure(figsize=(8,4))\n",
    "plt.bar(range(len(components)), list(map(len, components)))\n",
    "plt.title(\"Size of each connected component\")"
   ]
  },
  {
   "cell_type": "code",
   "execution_count": 16,
   "metadata": {},
   "outputs": [
    {
     "data": {
      "image/png": "[encoded data removed]",
      "text/plain": [
       "<Figure size 1000x1000 with 1 Axes>"
      ]
     },
     "metadata": {},
     "output_type": "display_data"
    }
   ],
   "source": [
    "plt.figure(figsize=(10, 10))\n",
    "k = 1/(len(G))**(0.5)\n",
    "scale = 10\n",
    "pos = nx.spring_layout(G, k=k, scale=scale)\n",
    "pos = nx.spring_layout(G, k=k*20, pos=pos, iterations=1, scale=scale)\n",
    "nx.draw(G, pos, node_size=10, edge_color=(0,0,0,0.3), hide_ticks=False)\n",
    "# nx.draw_networkx_labels(G, pos, font_size=6, hide_ticks=False)\n",
    "plt.axis(\"on\")\n",
    "None"
   ]
  },
  {
   "cell_type": "code",
   "execution_count": 17,
   "metadata": {},
   "outputs": [],
   "source": [
    "with open(\"data/india_scraped.txt\", 'r') as f:\n",
    "    lines = f.readlines()"
   ]
  },
  {
   "cell_type": "code",
   "execution_count": 19,
   "metadata": {},
   "outputs": [
    {
     "data": {
      "text/plain": [
       "4272328"
      ]
     },
     "execution_count": 19,
     "metadata": {},
     "output_type": "execute_result"
    }
   ],
   "source": [
    "len(\"\".join(lines).split())"
   ]
  },
  {
   "cell_type": "code",
   "execution_count": 21,
   "metadata": {},
   "outputs": [
    {
     "data": {
      "text/plain": [
       "128329"
      ]
     },
     "execution_count": 21,
     "metadata": {},
     "output_type": "execute_result"
    }
   ],
   "source": [
    "len(lines)"
   ]
  },
  {
   "cell_type": "code",
   "execution_count": null,
   "metadata": {},
   "outputs": [],
   "source": []
  },
  {
   "cell_type": "markdown",
   "metadata": {},
   "source": [
    "## Rebel code experiments"
   ]
  },
  {
   "cell_type": "code",
   "execution_count": 3,
   "metadata": {},
   "outputs": [],
   "source": [
    "from transformers import AutoModelForSeq2SeqLM, AutoTokenizer\n",
    "import torch\n",
    "from tqdm import tqdm\n",
    "\n",
    "def extract_triplets(text):\n",
    "    triplets = []\n",
    "    relation, subject, relation, object_ = '', '', '', ''\n",
    "    text = text.strip()\n",
    "    current = 'x'\n",
    "    for token in text.replace(\"<s>\", \"\").replace(\"<pad>\", \"\").replace(\"</s>\", \"\").split():\n",
    "        if token == \"<triplet>\":\n",
    "            current = 't'\n",
    "            if relation != '':\n",
    "                triplets.append({'head': subject.strip(), 'type': relation.strip(),'tail': object_.strip()})\n",
    "                relation = ''\n",
    "            subject = ''\n",
    "        elif token == \"<subj>\":\n",
    "            current = 's'\n",
    "            if relation != '':\n",
    "                triplets.append({'head': subject.strip(), 'type': relation.strip(),'tail': object_.strip()})\n",
    "            object_ = ''\n",
    "        elif token == \"<obj>\":\n",
    "            current = 'o'\n",
    "            relation = ''\n",
    "        else:\n",
    "            if current == 't':\n",
    "                subject += ' ' + token\n",
    "            elif current == 's':\n",
    "                object_ += ' ' + token\n",
    "            elif current == 'o':\n",
    "                relation += ' ' + token\n",
    "    if subject != '' and relation != '' and object_ != '':\n",
    "        triplets.append({'head': subject.strip(), 'type': relation.strip(),'tail': object_.strip()})\n",
    "    return triplets"
   ]
  },
  {
   "cell_type": "code",
   "execution_count": 4,
   "metadata": {},
   "outputs": [
    {
     "data": {
      "application/vnd.jupyter.widget-view+json": {
       "model_id": "5d9c82404ca04732b1c00292db6c3957",
       "version_major": 2,
       "version_minor": 0
      },
      "text/plain": [
       "tokenizer_config.json:   0%|          | 0.00/1.23k [00:00<?, ?B/s]"
      ]
     },
     "metadata": {},
     "output_type": "display_data"
    },
    {
     "data": {
      "application/vnd.jupyter.widget-view+json": {
       "model_id": "9dd50dc1d082424ba8dc1a9196262631",
       "version_major": 2,
       "version_minor": 0
      },
      "text/plain": [
       "vocab.json:   0%|          | 0.00/798k [00:00<?, ?B/s]"
      ]
     },
     "metadata": {},
     "output_type": "display_data"
    },
    {
     "data": {
      "application/vnd.jupyter.widget-view+json": {
       "model_id": "8f688b24aa124c0098a95e3caf12401e",
       "version_major": 2,
       "version_minor": 0
      },
      "text/plain": [
       "merges.txt:   0%|          | 0.00/456k [00:00<?, ?B/s]"
      ]
     },
     "metadata": {},
     "output_type": "display_data"
    },
    {
     "data": {
      "application/vnd.jupyter.widget-view+json": {
       "model_id": "e05ccad1f2664bf2a9236060a72d3f3d",
       "version_major": 2,
       "version_minor": 0
      },
      "text/plain": [
       "tokenizer.json:   0%|          | 0.00/1.36M [00:00<?, ?B/s]"
      ]
     },
     "metadata": {},
     "output_type": "display_data"
    },
    {
     "data": {
      "application/vnd.jupyter.widget-view+json": {
       "model_id": "5008bd8818ea4f7e84208ae39889b191",
       "version_major": 2,
       "version_minor": 0
      },
      "text/plain": [
       "added_tokens.json:   0%|          | 0.00/123 [00:00<?, ?B/s]"
      ]
     },
     "metadata": {},
     "output_type": "display_data"
    },
    {
     "data": {
      "application/vnd.jupyter.widget-view+json": {
       "model_id": "dc92ecb8059440d6894a226811d39107",
       "version_major": 2,
       "version_minor": 0
      },
      "text/plain": [
       "special_tokens_map.json:   0%|          | 0.00/344 [00:00<?, ?B/s]"
      ]
     },
     "metadata": {},
     "output_type": "display_data"
    },
    {
     "data": {
      "application/vnd.jupyter.widget-view+json": {
       "model_id": "483dff6c2f3245ef92eb65aaeda3fb20",
       "version_major": 2,
       "version_minor": 0
      },
      "text/plain": [
       "config.json:   0%|          | 0.00/1.42k [00:00<?, ?B/s]"
      ]
     },
     "metadata": {},
     "output_type": "display_data"
    },
    {
     "data": {
      "application/vnd.jupyter.widget-view+json": {
       "model_id": "a01067c986064c5d9f1a5e4acaf76be2",
       "version_major": 2,
       "version_minor": 0
      },
      "text/plain": [
       "model.safetensors:   0%|          | 0.00/1.63G [00:00<?, ?B/s]"
      ]
     },
     "metadata": {},
     "output_type": "display_data"
    }
   ],
   "source": [
    "tokenizer = AutoTokenizer.from_pretrained(\"Babelscape/rebel-large\")\n",
    "model = AutoModelForSeq2SeqLM.from_pretrained(\"Babelscape/rebel-large\")"
   ]
  },
  {
   "cell_type": "markdown",
   "metadata": {},
   "source": [
    "### Simple extration"
   ]
  },
  {
   "cell_type": "code",
   "execution_count": 3,
   "metadata": {},
   "outputs": [],
   "source": [
    "text = 'Punta Cana is a resort town in the municipality of Higüey, in La Altagracia Province, the easternmost province of the Dominican Republic.'"
   ]
  },
  {
   "cell_type": "code",
   "execution_count": 8,
   "metadata": {},
   "outputs": [
    {
     "data": {
      "text/plain": [
       "{'input_ids': tensor([[    0,   510, 20339,  2615,   102,    16,    10,  5753,  1139,    11,\n",
       "             5, 17300,     9, 19664,  2768,  2981,     6,    11,  1587,  7330,\n",
       "          1073, 13249,   493, 16517,     6,     5,  4580,  7877,  2791,     9,\n",
       "             5, 18978,  3497,     4,     2]]), 'attention_mask': tensor([[1, 1, 1, 1, 1, 1, 1, 1, 1, 1, 1, 1, 1, 1, 1, 1, 1, 1, 1, 1, 1, 1, 1, 1,\n",
       "         1, 1, 1, 1, 1, 1, 1, 1, 1, 1, 1]])}"
      ]
     },
     "execution_count": 8,
     "metadata": {},
     "output_type": "execute_result"
    }
   ],
   "source": [
    "input_tokens = tokenizer(text, return_tensors='pt')\n",
    "input_tokens"
   ]
  },
  {
   "cell_type": "code",
   "execution_count": 22,
   "metadata": {},
   "outputs": [
    {
     "data": {
      "text/plain": [
       "tensor([[    0, 50267,   221, 20339,  2615,   102,  1437, 50266,  1587,  7330,\n",
       "          1073, 13249,   493, 16517,  1437, 50265,  2034,    11,     5,  6833,\n",
       "         15752, 10014,  1437, 50266, 18978,  3497,  1437, 50265,   247,  1437,\n",
       "         50267, 19664,  2768,  2981,  1437, 50266,  1587,  7330,  1073, 13249,\n",
       "           493, 16517,  1437, 50265,  2034,    11,     5,  6833, 15752, 10014,\n",
       "          1437, 50266, 18978,  3497,  1437, 50265,   247,  1437, 50267,  1587,\n",
       "          7330,  1073, 13249,   493, 16517,  1437, 50266, 18978,  3497,  1437,\n",
       "         50265,   247,  1437, 50267, 18978,  3497,  1437, 50266,  1587,  7330,\n",
       "          1073, 13249,   493, 16517,  1437, 50265,  6308,  6833, 15752, 10014,\n",
       "             2,     1,     1,     1,     1,     1,     1,     1,     1,     1,\n",
       "             1,     1,     1,     1,     1,     1,     1,     1]])"
      ]
     },
     "execution_count": 22,
     "metadata": {},
     "output_type": "execute_result"
    }
   ],
   "source": [
    "output_tokens = model.generate(\n",
    "    **input_tokens\n",
    ")\n",
    "output_tokens"
   ]
  },
  {
   "cell_type": "code",
   "execution_count": 20,
   "metadata": {},
   "outputs": [
    {
     "name": "stdout",
     "output_type": "stream",
     "text": [
      "<s><triplet> Punta Cana <subj> La Altagracia Province <obj> located in the administrative territorial entity <subj> Dominican Republic <obj> country <triplet> Higüey <subj> La Altagracia Province <obj> located in the administrative territorial entity <subj> Dominican Republic <obj> country <triplet> La Altagracia Province <subj> Dominican Republic <obj> country <triplet> Dominican Republic <subj> La Altagracia Province <obj> contains administrative territorial entity</s><pad><pad><pad><pad><pad><pad><pad><pad><pad><pad><pad><pad><pad><pad><pad><pad><pad>\n"
     ]
    }
   ],
   "source": [
    "sentenses = tokenizer.batch_decode(output_tokens)\n",
    "print(sentenses[0])"
   ]
  },
  {
   "cell_type": "code",
   "execution_count": 21,
   "metadata": {},
   "outputs": [
    {
     "data": {
      "text/plain": [
       "[{'head': 'Punta Cana',\n",
       "  'type': 'located in the administrative territorial entity',\n",
       "  'tail': 'La Altagracia Province'},\n",
       " {'head': 'Punta Cana', 'type': 'country', 'tail': 'Dominican Republic'},\n",
       " {'head': 'Higüey',\n",
       "  'type': 'located in the administrative territorial entity',\n",
       "  'tail': 'La Altagracia Province'},\n",
       " {'head': 'Higüey', 'type': 'country', 'tail': 'Dominican Republic'},\n",
       " {'head': 'La Altagracia Province',\n",
       "  'type': 'country',\n",
       "  'tail': 'Dominican Republic'},\n",
       " {'head': 'Dominican Republic',\n",
       "  'type': 'contains administrative territorial entity',\n",
       "  'tail': 'La Altagracia Province'}]"
      ]
     },
     "execution_count": 21,
     "metadata": {},
     "output_type": "execute_result"
    }
   ],
   "source": [
    "extract_triplets(sentenses[0])"
   ]
  },
  {
   "cell_type": "markdown",
   "metadata": {},
   "source": [
    "### Larger extration"
   ]
  },
  {
   "cell_type": "code",
   "execution_count": 3,
   "metadata": {},
   "outputs": [],
   "source": [
    "with open(\"data/india_scraped.txt\", 'r') as f:\n",
    "    txt = f.read()"
   ]
  },
  {
   "cell_type": "code",
   "execution_count": 4,
   "metadata": {},
   "outputs": [
    {
     "data": {
      "text/plain": [
       "27385096"
      ]
     },
     "execution_count": 4,
     "metadata": {},
     "output_type": "execute_result"
    }
   ],
   "source": [
    "len(txt)"
   ]
  },
  {
   "cell_type": "code",
   "execution_count": 5,
   "metadata": {},
   "outputs": [
    {
     "name": "stderr",
     "output_type": "stream",
     "text": [
      "Token indices sequence length is longer than the specified maximum sequence length for this model (6041115 > 1024). Running this sequence through the model will result in indexing errors\n"
     ]
    }
   ],
   "source": [
    "tokens = tokenizer(txt, return_tensors='pt')"
   ]
  },
  {
   "cell_type": "code",
   "execution_count": 6,
   "metadata": {},
   "outputs": [
    {
     "data": {
      "text/plain": [
       "torch.Size([1, 6041115])"
      ]
     },
     "execution_count": 6,
     "metadata": {},
     "output_type": "execute_result"
    }
   ],
   "source": [
    "tokens['input_ids'].shape"
   ]
  },
  {
   "cell_type": "code",
   "execution_count": 7,
   "metadata": {},
   "outputs": [
    {
     "data": {
      "text/plain": [
       "torch.Size([1, 6041115])"
      ]
     },
     "execution_count": 7,
     "metadata": {},
     "output_type": "execute_result"
    }
   ],
   "source": [
    "tokens['attention_mask'].shape"
   ]
  },
  {
   "cell_type": "code",
   "execution_count": null,
   "metadata": {},
   "outputs": [
    {
     "data": {
      "text/plain": [
       "torch.Size([1, 6041115])"
      ]
     },
     "execution_count": 9,
     "metadata": {},
     "output_type": "execute_result"
    }
   ],
   "source": [
    "span_length = 128\n",
    "input_ids = tokens['input_ids']\n",
    "input_ids.shape"
   ]
  },
  {
   "cell_type": "code",
   "execution_count": 14,
   "metadata": {},
   "outputs": [
    {
     "data": {
      "text/plain": [
       "6041115"
      ]
     },
     "execution_count": 14,
     "metadata": {},
     "output_type": "execute_result"
    }
   ],
   "source": [
    "input_ids.squeeze().shape[0]"
   ]
  },
  {
   "cell_type": "code",
   "execution_count": 12,
   "metadata": {},
   "outputs": [
    {
     "data": {
      "text/plain": [
       "torch.Size([23598, 256])"
      ]
     },
     "execution_count": 12,
     "metadata": {},
     "output_type": "execute_result"
    }
   ],
   "source": [
    "num_spans = input_ids.shape[1]//span_length\n",
    "reshaped_input_ids = input_ids[:, :num_spans*span_length].reshape(num_spans, span_length)\n",
    "reshaped_input_ids.shape"
   ]
  },
  {
   "cell_type": "code",
   "execution_count": 31,
   "metadata": {},
   "outputs": [
    {
     "data": {
      "text/plain": [
       "torch.Size([4719, 5, 256])"
      ]
     },
     "execution_count": 31,
     "metadata": {},
     "output_type": "execute_result"
    }
   ],
   "source": [
    "batch_size = 5\n",
    "num_batches = reshaped_input_ids.shape[0]//batch_size\n",
    "batched_inputs = reshaped_input_ids[:batch_size*num_batches, :].reshape(num_batches, batch_size, span_length)\n",
    "batched_inputs.shape"
   ]
  },
  {
   "cell_type": "code",
   "execution_count": 80,
   "metadata": {},
   "outputs": [
    {
     "data": {
      "text/plain": [
       "device(type='cpu')"
      ]
     },
     "execution_count": 80,
     "metadata": {},
     "output_type": "execute_result"
    }
   ],
   "source": [
    "model.device"
   ]
  },
  {
   "cell_type": "code",
   "execution_count": 63,
   "metadata": {},
   "outputs": [],
   "source": [
    "def infer_batch(batch):\n",
    "    output_tokens = model.generate(\n",
    "        input_ids = batch,\n",
    "        attention_mask = torch.ones_like(batch)\n",
    "    )\n",
    "    sentenses = tokenizer.batch_decode(output_tokens)\n",
    "    return sentenses\n"
   ]
  },
  {
   "cell_type": "code",
   "execution_count": null,
   "metadata": {},
   "outputs": [],
   "source": [
    "relations = []\n",
    "for batch in tqdm(batched_inputs):\n",
    "    sentenses = infer_batch(batch)\n",
    "    for sentense in sentenses:\n",
    "        triplets = extract_triplets(sentense)\n",
    "        relations.extend(triplets)"
   ]
  },
  {
   "cell_type": "code",
   "execution_count": 65,
   "metadata": {},
   "outputs": [
    {
     "data": {
      "text/plain": [
       "144"
      ]
     },
     "execution_count": 65,
     "metadata": {},
     "output_type": "execute_result"
    }
   ],
   "source": [
    "len(relations)"
   ]
  },
  {
   "cell_type": "code",
   "execution_count": 66,
   "metadata": {},
   "outputs": [
    {
     "data": {
      "text/plain": [
       "[{'head': 'Indian Plate',\n",
       "  'type': 'shares border with',\n",
       "  'tail': 'Indo-Australian Plate'},\n",
       " {'head': 'Indian tectonic plate',\n",
       "  'type': 'shares border with',\n",
       "  'tail': 'Indo-Australian Plate'},\n",
       " {'head': 'Indo-Australian Plate',\n",
       "  'type': 'shares border with',\n",
       "  'tail': 'Indian Plate'},\n",
       " {'head': 'Indo-Australian Plate',\n",
       "  'type': 'shares border with',\n",
       "  'tail': 'Indian tectonic plate'},\n",
       " {'head': 'Chota Nagpur Plateau',\n",
       "  'type': 'located in the administrative territorial entity',\n",
       "  'tail': 'Jharkhand'},\n",
       " {'head': 'Ganges', 'type': 'tributary', 'tail': 'Yamuna'},\n",
       " {'head': 'Ganges', 'type': 'tributary', 'tail': 'Kosi'},\n",
       " {'head': 'Yamuna', 'type': 'mouth of the watercourse', 'tail': 'Ganges'},\n",
       " {'head': 'Kosi', 'type': 'mouth of the watercourse', 'tail': 'Ganges'},\n",
       " {'head': 'India',\n",
       "  'type': 'contains administrative territorial entity',\n",
       "  'tail': 'Lakshadweep'},\n",
       " {'head': 'India',\n",
       "  'type': 'contains administrative territorial entity',\n",
       "  'tail': 'Andaman and Nicobar Islands'},\n",
       " {'head': 'Lakshadweep',\n",
       "  'type': 'located in the administrative territorial entity',\n",
       "  'tail': 'India'},\n",
       " {'head': 'Lakshadweep', 'type': 'instance of', 'tail': 'archipelago'},\n",
       " {'head': 'Andaman and Nicobar Islands',\n",
       "  'type': 'located in the administrative territorial entity',\n",
       "  'tail': 'India'},\n",
       " {'head': 'Andaman and Nicobar Islands',\n",
       "  'type': 'instance of',\n",
       "  'tail': 'archipelago'},\n",
       " {'head': 'Andaman and Nicobar Islands',\n",
       "  'type': 'located in or next to body of water',\n",
       "  'tail': 'Andaman Sea'},\n",
       " {'head': 'Ganges', 'type': 'origin of the watercourse', 'tail': 'Himalaya'},\n",
       " {'head': 'Brahmaputra',\n",
       "  'type': 'origin of the watercourse',\n",
       "  'tail': 'Himalaya'},\n",
       " {'head': 'Indian Plate',\n",
       "  'type': 'shares border with',\n",
       "  'tail': 'Indo-Australian Plate'},\n",
       " {'head': 'Indian tectonic plate',\n",
       "  'type': 'shares border with',\n",
       "  'tail': 'Indo-Australian Plate'},\n",
       " {'head': 'Indo-Australian Plate',\n",
       "  'type': 'shares border with',\n",
       "  'tail': 'Indian Plate'},\n",
       " {'head': 'Indo-Australian Plate',\n",
       "  'type': 'shares border with',\n",
       "  'tail': 'Indian tectonic plate'},\n",
       " {'head': 'Chota Nagpur Plateau',\n",
       "  'type': 'located in the administrative territorial entity',\n",
       "  'tail': 'Jharkhand'},\n",
       " {'head': 'Ganges', 'type': 'tributary', 'tail': 'Yamuna'},\n",
       " {'head': 'Ganges', 'type': 'tributary', 'tail': 'Kosi'},\n",
       " {'head': 'Yamuna', 'type': 'mouth of the watercourse', 'tail': 'Ganges'},\n",
       " {'head': 'Kosi', 'type': 'mouth of the watercourse', 'tail': 'Ganges'},\n",
       " {'head': 'India',\n",
       "  'type': 'contains administrative territorial entity',\n",
       "  'tail': 'Lakshadweep'},\n",
       " {'head': 'India',\n",
       "  'type': 'contains administrative territorial entity',\n",
       "  'tail': 'Andaman and Nicobar Islands'},\n",
       " {'head': 'Lakshadweep',\n",
       "  'type': 'located in the administrative territorial entity',\n",
       "  'tail': 'India'},\n",
       " {'head': 'Lakshadweep', 'type': 'instance of', 'tail': 'archipelago'},\n",
       " {'head': 'Andaman and Nicobar Islands',\n",
       "  'type': 'located in the administrative territorial entity',\n",
       "  'tail': 'India'},\n",
       " {'head': 'Andaman and Nicobar Islands',\n",
       "  'type': 'instance of',\n",
       "  'tail': 'archipelago'},\n",
       " {'head': 'Andaman and Nicobar Islands',\n",
       "  'type': 'located in or next to body of water',\n",
       "  'tail': 'Andaman Sea'},\n",
       " {'head': 'Ganges', 'type': 'origin of the watercourse', 'tail': 'Himalaya'},\n",
       " {'head': 'Brahmaputra',\n",
       "  'type': 'origin of the watercourse',\n",
       "  'tail': 'Himalaya'},\n",
       " {'head': 'Indian Plate',\n",
       "  'type': 'shares border with',\n",
       "  'tail': 'Indo-Australian Plate'},\n",
       " {'head': 'Indian tectonic plate',\n",
       "  'type': 'shares border with',\n",
       "  'tail': 'Indo-Australian Plate'},\n",
       " {'head': 'Indo-Australian Plate',\n",
       "  'type': 'shares border with',\n",
       "  'tail': 'Indian Plate'},\n",
       " {'head': 'Indo-Australian Plate',\n",
       "  'type': 'shares border with',\n",
       "  'tail': 'Indian tectonic plate'},\n",
       " {'head': 'Chota Nagpur Plateau',\n",
       "  'type': 'located in the administrative territorial entity',\n",
       "  'tail': 'Jharkhand'},\n",
       " {'head': 'Ganges', 'type': 'tributary', 'tail': 'Yamuna'},\n",
       " {'head': 'Ganges', 'type': 'tributary', 'tail': 'Kosi'},\n",
       " {'head': 'Yamuna', 'type': 'mouth of the watercourse', 'tail': 'Ganges'},\n",
       " {'head': 'Kosi', 'type': 'mouth of the watercourse', 'tail': 'Ganges'},\n",
       " {'head': 'India',\n",
       "  'type': 'contains administrative territorial entity',\n",
       "  'tail': 'Lakshadweep'},\n",
       " {'head': 'India',\n",
       "  'type': 'contains administrative territorial entity',\n",
       "  'tail': 'Andaman and Nicobar Islands'},\n",
       " {'head': 'Lakshadweep',\n",
       "  'type': 'located in the administrative territorial entity',\n",
       "  'tail': 'India'},\n",
       " {'head': 'Lakshadweep', 'type': 'instance of', 'tail': 'archipelago'},\n",
       " {'head': 'Andaman and Nicobar Islands',\n",
       "  'type': 'located in the administrative territorial entity',\n",
       "  'tail': 'India'},\n",
       " {'head': 'Andaman and Nicobar Islands',\n",
       "  'type': 'instance of',\n",
       "  'tail': 'archipelago'},\n",
       " {'head': 'Andaman and Nicobar Islands',\n",
       "  'type': 'located in or next to body of water',\n",
       "  'tail': 'Andaman Sea'},\n",
       " {'head': 'Ganges', 'type': 'origin of the watercourse', 'tail': 'Himalaya'},\n",
       " {'head': 'Brahmaputra',\n",
       "  'type': 'origin of the watercourse',\n",
       "  'tail': 'Himalaya'},\n",
       " {'head': 'Indian Plate',\n",
       "  'type': 'shares border with',\n",
       "  'tail': 'Indo-Australian Plate'},\n",
       " {'head': 'Indian tectonic plate',\n",
       "  'type': 'shares border with',\n",
       "  'tail': 'Indo-Australian Plate'},\n",
       " {'head': 'Indo-Australian Plate',\n",
       "  'type': 'shares border with',\n",
       "  'tail': 'Indian Plate'},\n",
       " {'head': 'Indo-Australian Plate',\n",
       "  'type': 'shares border with',\n",
       "  'tail': 'Indian tectonic plate'},\n",
       " {'head': 'Chota Nagpur Plateau',\n",
       "  'type': 'located in the administrative territorial entity',\n",
       "  'tail': 'Jharkhand'},\n",
       " {'head': 'Ganges', 'type': 'tributary', 'tail': 'Yamuna'},\n",
       " {'head': 'Ganges', 'type': 'tributary', 'tail': 'Kosi'},\n",
       " {'head': 'Yamuna', 'type': 'mouth of the watercourse', 'tail': 'Ganges'},\n",
       " {'head': 'Kosi', 'type': 'mouth of the watercourse', 'tail': 'Ganges'},\n",
       " {'head': 'India',\n",
       "  'type': 'contains administrative territorial entity',\n",
       "  'tail': 'Lakshadweep'},\n",
       " {'head': 'India',\n",
       "  'type': 'contains administrative territorial entity',\n",
       "  'tail': 'Andaman and Nicobar Islands'},\n",
       " {'head': 'Lakshadweep',\n",
       "  'type': 'located in the administrative territorial entity',\n",
       "  'tail': 'India'},\n",
       " {'head': 'Lakshadweep', 'type': 'instance of', 'tail': 'archipelago'},\n",
       " {'head': 'Andaman and Nicobar Islands',\n",
       "  'type': 'located in the administrative territorial entity',\n",
       "  'tail': 'India'},\n",
       " {'head': 'Andaman and Nicobar Islands',\n",
       "  'type': 'instance of',\n",
       "  'tail': 'archipelago'},\n",
       " {'head': 'Andaman and Nicobar Islands',\n",
       "  'type': 'located in or next to body of water',\n",
       "  'tail': 'Andaman Sea'},\n",
       " {'head': 'Ganges', 'type': 'origin of the watercourse', 'tail': 'Himalaya'},\n",
       " {'head': 'Brahmaputra',\n",
       "  'type': 'origin of the watercourse',\n",
       "  'tail': 'Himalaya'},\n",
       " {'head': 'Indian Plate',\n",
       "  'type': 'shares border with',\n",
       "  'tail': 'Indo-Australian Plate'},\n",
       " {'head': 'Indian tectonic plate',\n",
       "  'type': 'shares border with',\n",
       "  'tail': 'Indo-Australian Plate'},\n",
       " {'head': 'Indo-Australian Plate',\n",
       "  'type': 'shares border with',\n",
       "  'tail': 'Indian Plate'},\n",
       " {'head': 'Indo-Australian Plate',\n",
       "  'type': 'shares border with',\n",
       "  'tail': 'Indian tectonic plate'},\n",
       " {'head': 'Chota Nagpur Plateau',\n",
       "  'type': 'located in the administrative territorial entity',\n",
       "  'tail': 'Jharkhand'},\n",
       " {'head': 'Ganges', 'type': 'tributary', 'tail': 'Yamuna'},\n",
       " {'head': 'Ganges', 'type': 'tributary', 'tail': 'Kosi'},\n",
       " {'head': 'Yamuna', 'type': 'mouth of the watercourse', 'tail': 'Ganges'},\n",
       " {'head': 'Kosi', 'type': 'mouth of the watercourse', 'tail': 'Ganges'},\n",
       " {'head': 'India',\n",
       "  'type': 'contains administrative territorial entity',\n",
       "  'tail': 'Lakshadweep'},\n",
       " {'head': 'India',\n",
       "  'type': 'contains administrative territorial entity',\n",
       "  'tail': 'Andaman and Nicobar Islands'},\n",
       " {'head': 'Lakshadweep',\n",
       "  'type': 'located in the administrative territorial entity',\n",
       "  'tail': 'India'},\n",
       " {'head': 'Lakshadweep', 'type': 'instance of', 'tail': 'archipelago'},\n",
       " {'head': 'Andaman and Nicobar Islands',\n",
       "  'type': 'located in the administrative territorial entity',\n",
       "  'tail': 'India'},\n",
       " {'head': 'Andaman and Nicobar Islands',\n",
       "  'type': 'instance of',\n",
       "  'tail': 'archipelago'},\n",
       " {'head': 'Andaman and Nicobar Islands',\n",
       "  'type': 'located in or next to body of water',\n",
       "  'tail': 'Andaman Sea'},\n",
       " {'head': 'Ganges', 'type': 'origin of the watercourse', 'tail': 'Himalaya'},\n",
       " {'head': 'Brahmaputra',\n",
       "  'type': 'origin of the watercourse',\n",
       "  'tail': 'Himalaya'},\n",
       " {'head': 'Indian Plate',\n",
       "  'type': 'shares border with',\n",
       "  'tail': 'Indo-Australian Plate'},\n",
       " {'head': 'Indian tectonic plate',\n",
       "  'type': 'shares border with',\n",
       "  'tail': 'Indo-Australian Plate'},\n",
       " {'head': 'Indo-Australian Plate',\n",
       "  'type': 'shares border with',\n",
       "  'tail': 'Indian Plate'},\n",
       " {'head': 'Indo-Australian Plate',\n",
       "  'type': 'shares border with',\n",
       "  'tail': 'Indian tectonic plate'},\n",
       " {'head': 'Chota Nagpur Plateau',\n",
       "  'type': 'located in the administrative territorial entity',\n",
       "  'tail': 'Jharkhand'},\n",
       " {'head': 'Ganges', 'type': 'tributary', 'tail': 'Yamuna'},\n",
       " {'head': 'Ganges', 'type': 'tributary', 'tail': 'Kosi'},\n",
       " {'head': 'Yamuna', 'type': 'mouth of the watercourse', 'tail': 'Ganges'},\n",
       " {'head': 'Kosi', 'type': 'mouth of the watercourse', 'tail': 'Ganges'},\n",
       " {'head': 'India',\n",
       "  'type': 'contains administrative territorial entity',\n",
       "  'tail': 'Lakshadweep'},\n",
       " {'head': 'India',\n",
       "  'type': 'contains administrative territorial entity',\n",
       "  'tail': 'Andaman and Nicobar Islands'},\n",
       " {'head': 'Lakshadweep',\n",
       "  'type': 'located in the administrative territorial entity',\n",
       "  'tail': 'India'},\n",
       " {'head': 'Lakshadweep', 'type': 'instance of', 'tail': 'archipelago'},\n",
       " {'head': 'Andaman and Nicobar Islands',\n",
       "  'type': 'located in the administrative territorial entity',\n",
       "  'tail': 'India'},\n",
       " {'head': 'Andaman and Nicobar Islands',\n",
       "  'type': 'instance of',\n",
       "  'tail': 'archipelago'},\n",
       " {'head': 'Andaman and Nicobar Islands',\n",
       "  'type': 'located in or next to body of water',\n",
       "  'tail': 'Andaman Sea'},\n",
       " {'head': 'Ganges', 'type': 'origin of the watercourse', 'tail': 'Himalaya'},\n",
       " {'head': 'Brahmaputra',\n",
       "  'type': 'origin of the watercourse',\n",
       "  'tail': 'Himalaya'},\n",
       " {'head': 'Indian Plate',\n",
       "  'type': 'shares border with',\n",
       "  'tail': 'Indo-Australian Plate'},\n",
       " {'head': 'Indian tectonic plate',\n",
       "  'type': 'shares border with',\n",
       "  'tail': 'Indo-Australian Plate'},\n",
       " {'head': 'Indo-Australian Plate',\n",
       "  'type': 'shares border with',\n",
       "  'tail': 'Indian Plate'},\n",
       " {'head': 'Indo-Australian Plate',\n",
       "  'type': 'shares border with',\n",
       "  'tail': 'Indian tectonic plate'},\n",
       " {'head': 'Chota Nagpur Plateau',\n",
       "  'type': 'located in the administrative territorial entity',\n",
       "  'tail': 'Jharkhand'},\n",
       " {'head': 'Ganges', 'type': 'tributary', 'tail': 'Yamuna'},\n",
       " {'head': 'Ganges', 'type': 'tributary', 'tail': 'Kosi'},\n",
       " {'head': 'Yamuna', 'type': 'mouth of the watercourse', 'tail': 'Ganges'},\n",
       " {'head': 'Kosi', 'type': 'mouth of the watercourse', 'tail': 'Ganges'},\n",
       " {'head': 'India',\n",
       "  'type': 'contains administrative territorial entity',\n",
       "  'tail': 'Lakshadweep'},\n",
       " {'head': 'India',\n",
       "  'type': 'contains administrative territorial entity',\n",
       "  'tail': 'Andaman and Nicobar Islands'},\n",
       " {'head': 'Lakshadweep',\n",
       "  'type': 'located in the administrative territorial entity',\n",
       "  'tail': 'India'},\n",
       " {'head': 'Lakshadweep', 'type': 'instance of', 'tail': 'archipelago'},\n",
       " {'head': 'Andaman and Nicobar Islands',\n",
       "  'type': 'located in the administrative territorial entity',\n",
       "  'tail': 'India'},\n",
       " {'head': 'Andaman and Nicobar Islands',\n",
       "  'type': 'instance of',\n",
       "  'tail': 'archipelago'},\n",
       " {'head': 'Andaman and Nicobar Islands',\n",
       "  'type': 'located in or next to body of water',\n",
       "  'tail': 'Andaman Sea'},\n",
       " {'head': 'Ganges', 'type': 'origin of the watercourse', 'tail': 'Himalaya'},\n",
       " {'head': 'Brahmaputra',\n",
       "  'type': 'origin of the watercourse',\n",
       "  'tail': 'Himalaya'},\n",
       " {'head': 'Indian Plate',\n",
       "  'type': 'shares border with',\n",
       "  'tail': 'Indo-Australian Plate'},\n",
       " {'head': 'Indian tectonic plate',\n",
       "  'type': 'shares border with',\n",
       "  'tail': 'Indo-Australian Plate'},\n",
       " {'head': 'Indo-Australian Plate',\n",
       "  'type': 'shares border with',\n",
       "  'tail': 'Indian Plate'},\n",
       " {'head': 'Indo-Australian Plate',\n",
       "  'type': 'shares border with',\n",
       "  'tail': 'Indian tectonic plate'},\n",
       " {'head': 'Chota Nagpur Plateau',\n",
       "  'type': 'located in the administrative territorial entity',\n",
       "  'tail': 'Jharkhand'},\n",
       " {'head': 'Ganges', 'type': 'tributary', 'tail': 'Yamuna'},\n",
       " {'head': 'Ganges', 'type': 'tributary', 'tail': 'Kosi'},\n",
       " {'head': 'Yamuna', 'type': 'mouth of the watercourse', 'tail': 'Ganges'},\n",
       " {'head': 'Kosi', 'type': 'mouth of the watercourse', 'tail': 'Ganges'},\n",
       " {'head': 'India',\n",
       "  'type': 'contains administrative territorial entity',\n",
       "  'tail': 'Lakshadweep'},\n",
       " {'head': 'India',\n",
       "  'type': 'contains administrative territorial entity',\n",
       "  'tail': 'Andaman and Nicobar Islands'},\n",
       " {'head': 'Lakshadweep',\n",
       "  'type': 'located in the administrative territorial entity',\n",
       "  'tail': 'India'},\n",
       " {'head': 'Lakshadweep', 'type': 'instance of', 'tail': 'archipelago'},\n",
       " {'head': 'Andaman and Nicobar Islands',\n",
       "  'type': 'located in the administrative territorial entity',\n",
       "  'tail': 'India'},\n",
       " {'head': 'Andaman and Nicobar Islands',\n",
       "  'type': 'instance of',\n",
       "  'tail': 'archipelago'},\n",
       " {'head': 'Andaman and Nicobar Islands',\n",
       "  'type': 'located in or next to body of water',\n",
       "  'tail': 'Andaman Sea'},\n",
       " {'head': 'Ganges', 'type': 'origin of the watercourse', 'tail': 'Himalaya'},\n",
       " {'head': 'Brahmaputra',\n",
       "  'type': 'origin of the watercourse',\n",
       "  'tail': 'Himalaya'}]"
      ]
     },
     "execution_count": 66,
     "metadata": {},
     "output_type": "execute_result"
    }
   ],
   "source": [
    "relations"
   ]
  },
  {
   "cell_type": "code",
   "execution_count": null,
   "metadata": {},
   "outputs": [],
   "source": [
    "def extract_knowledge_graph(\n",
    "    text: str,\n",
    "    span_length: int,\n",
    "    batch_size: int,\n",
    "    prog_bar: bool = False\n",
    "):\n",
    "    print(\"START: loading models\")\n",
    "    tokenizer = AutoTokenizer.from_pretrained(\"Babelscape/rebel-large\")\n",
    "    model = AutoModelForSeq2SeqLM.from_pretrained(\"Babelscape/rebel-large\")\n",
    "    print(\"DONE: loading models\")\n",
    "    print(\"START: tokenizing input\")\n",
    "    tokens = tokenizer(text, return_tensors='pt')\n",
    "    print(\"DONE: tokenizing input\")\n",
    "    input_ids = tokens['input_ids'].squeeze()\n",
    "    input_ids\n",
    "    num_spans = input_ids.shape[0]//span_length\n",
    "    reshaped_input_ids = input_ids[:num_spans*span_length].reshape(num_spans, span_length)\n",
    "    num_batches = reshaped_input_ids.shape[0]//batch_size\n",
    "    batched_inputs = reshaped_input_ids[:num_batches*batch_size, :span_length].reshape(num_batches, batch_size, span_length)\n",
    "    iterator = tqdm if prog_bar else iter\n",
    "    print(\"START: knowledge graph extration\")\n",
    "    relations = []\n",
    "    try:\n",
    "        for batch in iterator(batched_inputs):\n",
    "            sentenses = infer_batch(batch)\n",
    "            for sentense in sentenses:\n",
    "                triplets = extract_triplets(sentense)\n",
    "                relations.extend(triplets)\n",
    "        print(\"DONE: knowledge graph extration\")\n",
    "    except KeyboardInterrupt:\n",
    "        print(\"INTERUPTED: knowledge graph extration\")\n",
    "        pass\n",
    "    return relations\n",
    "    "
   ]
  },
  {
   "cell_type": "code",
   "execution_count": 70,
   "metadata": {},
   "outputs": [
    {
     "data": {
      "text/plain": [
       "27385096"
      ]
     },
     "execution_count": 70,
     "metadata": {},
     "output_type": "execute_result"
    }
   ],
   "source": [
    "len(txt)"
   ]
  },
  {
   "cell_type": "code",
   "execution_count": 71,
   "metadata": {},
   "outputs": [
    {
     "name": "stdout",
     "output_type": "stream",
     "text": [
      "START: tokenizing input\n",
      "DONE: tokenizing input\n",
      "START: knowledge graph extration\n"
     ]
    },
    {
     "name": "stderr",
     "output_type": "stream",
     "text": [
      "100%|██████████| 3/3 [00:49<00:00, 16.62s/it]"
     ]
    },
    {
     "name": "stdout",
     "output_type": "stream",
     "text": [
      "DONE: knowledge graph extration\n"
     ]
    },
    {
     "name": "stderr",
     "output_type": "stream",
     "text": [
      "\n"
     ]
    }
   ],
   "source": [
    "relations = extract_knowledge_graph(\n",
    "    txt[:10000],\n",
    "    128,\n",
    "    5,\n",
    "    True\n",
    ")"
   ]
  },
  {
   "cell_type": "code",
   "execution_count": 72,
   "metadata": {},
   "outputs": [
    {
     "data": {
      "text/plain": [
       "43"
      ]
     },
     "execution_count": 72,
     "metadata": {},
     "output_type": "execute_result"
    }
   ],
   "source": [
    "len(relations)"
   ]
  },
  {
   "cell_type": "code",
   "execution_count": 74,
   "metadata": {},
   "outputs": [
    {
     "data": {
      "text/plain": [
       "1521"
      ]
     },
     "execution_count": 74,
     "metadata": {},
     "output_type": "execute_result"
    }
   ],
   "source": [
    "len(txt[:10000].split())"
   ]
  },
  {
   "cell_type": "code",
   "execution_count": 77,
   "metadata": {},
   "outputs": [
    {
     "data": {
      "text/plain": [
       "774200.6101249178"
      ]
     },
     "execution_count": 77,
     "metadata": {},
     "output_type": "execute_result"
    }
   ],
   "source": [
    "(43/1521) * 27385096"
   ]
  },
  {
   "cell_type": "code",
   "execution_count": 73,
   "metadata": {},
   "outputs": [
    {
     "data": {
      "text/plain": [
       "[{'head': 'India',\n",
       "  'type': 'located in or next to body of water',\n",
       "  'tail': 'Indian Ocean'},\n",
       " {'head': 'India',\n",
       "  'type': 'located in or next to body of water',\n",
       "  'tail': 'Arabian Sea'},\n",
       " {'head': 'India',\n",
       "  'type': 'located in or next to body of water',\n",
       "  'tail': 'Bay of Bengal'},\n",
       " {'head': 'India', 'type': 'shares border with', 'tail': 'Pakistan'},\n",
       " {'head': 'India', 'type': 'shares border with', 'tail': 'China'},\n",
       " {'head': 'India', 'type': 'shares border with', 'tail': 'Nepal'},\n",
       " {'head': 'India', 'type': 'shares border with', 'tail': 'Bhutan'},\n",
       " {'head': 'India', 'type': 'shares border with', 'tail': 'Bangladesh'},\n",
       " {'head': 'India', 'type': 'shares border with', 'tail': 'Myanmar'},\n",
       " {'head': 'India',\n",
       "  'type': 'located in or next to body of water',\n",
       "  'tail': 'Indian Ocean'},\n",
       " {'head': 'India',\n",
       "  'type': 'located in or next to body of water',\n",
       "  'tail': 'Arabian Sea'},\n",
       " {'head': 'Thailand', 'type': 'shares border with', 'tail': 'Myanmar'},\n",
       " {'head': 'Thailand', 'type': 'shares border with', 'tail': 'Indonesia'},\n",
       " {'head': 'Myanmar', 'type': 'shares border with', 'tail': 'Thailand'},\n",
       " {'head': 'Myanmar', 'type': 'shares border with', 'tail': 'Indonesia'},\n",
       " {'head': 'Indonesia', 'type': 'shares border with', 'tail': 'Thailand'},\n",
       " {'head': 'Indonesia', 'type': 'shares border with', 'tail': 'Myanmar'},\n",
       " {'head': 'caste', 'type': 'facet of', 'tail': 'Hinduism'},\n",
       " {'head': 'Delhi Sultanate', 'type': 'followed by', 'tail': 'Mughal Empire'},\n",
       " {'head': 'Mughal Empire', 'type': 'follows', 'tail': 'Delhi Sultanate'},\n",
       " {'head': 'British Indian Empire',\n",
       "  'type': 'dissolved, abolished or demolished date',\n",
       "  'tail': '1947'},\n",
       " {'head': 'British Indian Empire', 'type': 'replaced by', 'tail': 'Pakistan'},\n",
       " {'head': 'Pakistan', 'type': 'replaces', 'tail': 'British Indian Empire'},\n",
       " {'head': \"India's population grew from 361 million in 1951\",\n",
       "  'type': 'has part',\n",
       "  'tail': ''},\n",
       " {'head': \"India's population grew from 361 million in 1951\",\n",
       "  'type': 'has part',\n",
       "  'tail': '1.4 billion in 2023'},\n",
       " {'head': '1.4 billion in 2023',\n",
       "  'type': 'part of',\n",
       "  'tail': \"India's population grew from 361 million in 1951\"},\n",
       " {'head': 'Pakistan', 'type': 'shares border with', 'tail': 'China'},\n",
       " {'head': 'China', 'type': 'shares border with', 'tail': 'Pakistan'},\n",
       " {'head': 'Hindush', 'type': 'country', 'tail': 'Achaemenid Empire'},\n",
       " {'head': 'Mughal Empire', 'type': 'language used', 'tail': 'Middle Persian'},\n",
       " {'head': 'Mehrgarh', 'type': 'country', 'tail': 'Pakistan'},\n",
       " {'head': 'Balochistan', 'type': 'country', 'tail': 'Pakistan'},\n",
       " {'head': 'Pakistan',\n",
       "  'type': 'contains administrative territorial entity',\n",
       "  'tail': 'Balochistan'},\n",
       " {'head': 'Indus Valley Civilisation',\n",
       "  'type': 'capital',\n",
       "  'tail': 'Mohenjo-daro'},\n",
       " {'head': 'Mohenjo-daro',\n",
       "  'type': 'capital of',\n",
       "  'tail': 'Indus Valley Civilisation'},\n",
       " {'head': 'Harappa', 'type': 'part of', 'tail': 'Indus Valley Civilisation'},\n",
       " {'head': 'Dholavira', 'type': 'part of', 'tail': 'Indus Valley Civilisation'},\n",
       " {'head': 'Kalibangan',\n",
       "  'type': 'part of',\n",
       "  'tail': 'Indus Valley Civilisation'},\n",
       " {'head': 'Gangetic Plain',\n",
       "  'type': 'located in the administrative territorial entity',\n",
       "  'tail': 'Punjab region'},\n",
       " {'head': 'Mahavira', 'type': 'religion', 'tail': 'Jainism'},\n",
       " {'head': 'Magadha', 'type': 'replaced by', 'tail': 'Maurya Empire'},\n",
       " {'head': 'Maurya Empire', 'type': 'replaces', 'tail': 'Magadha'},\n",
       " {'head': 'Sangam literature',\n",
       "  'type': 'language of work or name',\n",
       "  'tail': 'Tamil language'}]"
      ]
     },
     "execution_count": 73,
     "metadata": {},
     "output_type": "execute_result"
    }
   ],
   "source": [
    "relations"
   ]
  },
  {
   "cell_type": "markdown",
   "metadata": {},
   "source": [
    "## Simple Demo"
   ]
  },
  {
   "cell_type": "code",
   "execution_count": 1,
   "metadata": {},
   "outputs": [],
   "source": [
    "from rebel.rebel import make_kb\n",
    "\n",
    "text = 'Punta Cana is a resort town in the municipality of Higüey, in La Altagracia Province, the easternmost province of the Dominican Republic.'\n",
    "\n",
    "kb = make_kb(text)"
   ]
  },
  {
   "cell_type": "code",
   "execution_count": 3,
   "metadata": {},
   "outputs": [
    {
     "data": {
      "text/html": [
       "<div>\n",
       "<style scoped>\n",
       "    .dataframe tbody tr th:only-of-type {\n",
       "        vertical-align: middle;\n",
       "    }\n",
       "\n",
       "    .dataframe tbody tr th {\n",
       "        vertical-align: top;\n",
       "    }\n",
       "\n",
       "    .dataframe thead th {\n",
       "        text-align: right;\n",
       "    }\n",
       "</style>\n",
       "<table border=\"1\" class=\"dataframe\">\n",
       "  <thead>\n",
       "    <tr style=\"text-align: right;\">\n",
       "      <th></th>\n",
       "      <th>head</th>\n",
       "      <th>relation</th>\n",
       "      <th>tail</th>\n",
       "    </tr>\n",
       "  </thead>\n",
       "  <tbody>\n",
       "    <tr>\n",
       "      <th>0</th>\n",
       "      <td>La Altagracia Province</td>\n",
       "      <td>instance of</td>\n",
       "      <td>province</td>\n",
       "    </tr>\n",
       "    <tr>\n",
       "      <th>1</th>\n",
       "      <td>Higüey</td>\n",
       "      <td>located in the administrative territorial entity</td>\n",
       "      <td>La Altagracia Province</td>\n",
       "    </tr>\n",
       "    <tr>\n",
       "      <th>2</th>\n",
       "      <td>Dominican Republic</td>\n",
       "      <td>contains administrative territorial entity</td>\n",
       "      <td>La Altagracia Province</td>\n",
       "    </tr>\n",
       "    <tr>\n",
       "      <th>3</th>\n",
       "      <td>Higüey</td>\n",
       "      <td>country</td>\n",
       "      <td>Dominican Republic</td>\n",
       "    </tr>\n",
       "    <tr>\n",
       "      <th>4</th>\n",
       "      <td>Punta Cana</td>\n",
       "      <td>located in the administrative territorial entity</td>\n",
       "      <td>La Altagracia Province</td>\n",
       "    </tr>\n",
       "    <tr>\n",
       "      <th>5</th>\n",
       "      <td>La Altagracia Province</td>\n",
       "      <td>country</td>\n",
       "      <td>Dominican Republic</td>\n",
       "    </tr>\n",
       "    <tr>\n",
       "      <th>6</th>\n",
       "      <td>province</td>\n",
       "      <td>country</td>\n",
       "      <td>Dominican Republic</td>\n",
       "    </tr>\n",
       "    <tr>\n",
       "      <th>7</th>\n",
       "      <td>Punta Cana</td>\n",
       "      <td>country</td>\n",
       "      <td>Dominican Republic</td>\n",
       "    </tr>\n",
       "  </tbody>\n",
       "</table>\n",
       "</div>"
      ],
      "text/plain": [
       "                     head                                          relation  \\\n",
       "0  La Altagracia Province                                       instance of   \n",
       "1                  Higüey  located in the administrative territorial entity   \n",
       "2      Dominican Republic        contains administrative territorial entity   \n",
       "3                  Higüey                                           country   \n",
       "4              Punta Cana  located in the administrative territorial entity   \n",
       "5  La Altagracia Province                                           country   \n",
       "6                province                                           country   \n",
       "7              Punta Cana                                           country   \n",
       "\n",
       "                     tail  \n",
       "0                province  \n",
       "1  La Altagracia Province  \n",
       "2  La Altagracia Province  \n",
       "3      Dominican Republic  \n",
       "4  La Altagracia Province  \n",
       "5      Dominican Republic  \n",
       "6      Dominican Republic  \n",
       "7      Dominican Republic  "
      ]
     },
     "execution_count": 3,
     "metadata": {},
     "output_type": "execute_result"
    }
   ],
   "source": [
    "import pandas as pd\n",
    "\n",
    "pd.DataFrame(kb, columns=['head', 'relation', 'tail'])"
   ]
  },
  {
   "cell_type": "code",
   "execution_count": 2,
   "metadata": {},
   "outputs": [],
   "source": [
    "from rebel.rebel import make_kb\n",
    "import pandas as pd\n",
    "text = \"Napoleon Bonaparte (born Napoleone di Buonaparte; 15 August 1769 – 5 \" \\\n",
    "\"May 1821), and later known by his regnal name Napoleon I, was a French military \" \\\n",
    "\"and political leader who rose to prominence during the French Revolution and led \" \\\n",
    "\"several successful campaigns during the Revolutionary Wars. He was the de facto \" \\\n",
    "\"leader of the French Republic as First Consul from 1799 to 1804. As Napoleon I, \" \\\n",
    "\"he was Emperor of the French from 1804 until 1814 and again in 1815. Napoleon's \" \\\n",
    "\"political and cultural legacy has endured, and he has been one of the most \" \\\n",
    "\"celebrated and controversial leaders in world history.\""
   ]
  },
  {
   "cell_type": "code",
   "execution_count": 3,
   "metadata": {},
   "outputs": [
    {
     "name": "stdout",
     "output_type": "stream",
     "text": [
      "Napoleon Bonaparte (born Napoleone di Buonaparte; 15 August 1769 – 5 May 1821), and later known by his regnal name Napoleon I, was a French military and political leader who rose to prominence during the French Revolution and led several successful campaigns during the Revolutionary Wars. He was the de facto leader of the French Republic as First Consul from 1799 to 1804. As Napoleon I, he was Emperor of the French from 1804 until 1814 and again in 1815. Napoleon's political and cultural legacy has endured, and he has been one of the most celebrated and controversial leaders in world history.\n"
     ]
    }
   ],
   "source": [
    "print(text)"
   ]
  },
  {
   "cell_type": "code",
   "execution_count": 5,
   "metadata": {},
   "outputs": [
    {
     "name": "stdout",
     "output_type": "stream",
     "text": [
      "{'max_length': 1024, 'length_penalty': 0, 'num_beams': 5, 'num_return_sequences': 5}\n"
     ]
    }
   ],
   "source": [
    "df = pd.DataFrame(make_kb(text, max_length=1024, num_beams=5, num_return_sequences=5), columns=['head', 'relation', 'tail'])"
   ]
  },
  {
   "cell_type": "code",
   "execution_count": 7,
   "metadata": {},
   "outputs": [
    {
     "data": {
      "text/html": [
       "<div>\n",
       "<style scoped>\n",
       "    .dataframe tbody tr th:only-of-type {\n",
       "        vertical-align: middle;\n",
       "    }\n",
       "\n",
       "    .dataframe tbody tr th {\n",
       "        vertical-align: top;\n",
       "    }\n",
       "\n",
       "    .dataframe thead th {\n",
       "        text-align: right;\n",
       "    }\n",
       "</style>\n",
       "<table border=\"1\" class=\"dataframe\">\n",
       "  <thead>\n",
       "    <tr style=\"text-align: right;\">\n",
       "      <th></th>\n",
       "      <th>head</th>\n",
       "      <th>relation</th>\n",
       "      <th>tail</th>\n",
       "    </tr>\n",
       "  </thead>\n",
       "  <tbody>\n",
       "    <tr>\n",
       "      <th>0</th>\n",
       "      <td>Revolutionary Wars</td>\n",
       "      <td>participant</td>\n",
       "      <td>Napoleon Bonaparte</td>\n",
       "    </tr>\n",
       "    <tr>\n",
       "      <th>1</th>\n",
       "      <td>Napoleon Bonaparte</td>\n",
       "      <td>participant in</td>\n",
       "      <td>French Revolution</td>\n",
       "    </tr>\n",
       "    <tr>\n",
       "      <th>2</th>\n",
       "      <td>Napoleon Bonaparte</td>\n",
       "      <td>conflict</td>\n",
       "      <td>Revolutionary Wars</td>\n",
       "    </tr>\n",
       "    <tr>\n",
       "      <th>3</th>\n",
       "      <td>French Revolution</td>\n",
       "      <td>participant</td>\n",
       "      <td>Napoleon Bonaparte</td>\n",
       "    </tr>\n",
       "    <tr>\n",
       "      <th>4</th>\n",
       "      <td>Napoleon Bonaparte</td>\n",
       "      <td>date of birth</td>\n",
       "      <td>15 August 1769</td>\n",
       "    </tr>\n",
       "    <tr>\n",
       "      <th>5</th>\n",
       "      <td>Revolutionary Wars</td>\n",
       "      <td>part of</td>\n",
       "      <td>French Revolution</td>\n",
       "    </tr>\n",
       "    <tr>\n",
       "      <th>6</th>\n",
       "      <td>Napoleon Bonaparte</td>\n",
       "      <td>date of death</td>\n",
       "      <td>5 May 1821</td>\n",
       "    </tr>\n",
       "  </tbody>\n",
       "</table>\n",
       "</div>"
      ],
      "text/plain": [
       "                 head        relation                tail\n",
       "0  Revolutionary Wars     participant  Napoleon Bonaparte\n",
       "1  Napoleon Bonaparte  participant in   French Revolution\n",
       "2  Napoleon Bonaparte        conflict  Revolutionary Wars\n",
       "3   French Revolution     participant  Napoleon Bonaparte\n",
       "4  Napoleon Bonaparte   date of birth      15 August 1769\n",
       "5  Revolutionary Wars         part of   French Revolution\n",
       "6  Napoleon Bonaparte   date of death          5 May 1821"
      ]
     },
     "execution_count": 7,
     "metadata": {},
     "output_type": "execute_result"
    }
   ],
   "source": [
    "df"
   ]
  }
 ],
 "metadata": {
  "kernelspec": {
   "display_name": ".env",
   "language": "python",
   "name": "python3"
  },
  "language_info": {
   "codemirror_mode": {
    "name": "ipython",
    "version": 3
   },
   "file_extension": ".py",
   "mimetype": "text/x-python",
   "name": "python",
   "nbconvert_exporter": "python",
   "pygments_lexer": "ipython3",
   "version": "3.11.12"
  }
 },
 "nbformat": 4,
 "nbformat_minor": 2
}
