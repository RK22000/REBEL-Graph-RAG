{
 "cells": [
  {
   "cell_type": "code",
   "execution_count": 4,
   "metadata": {},
   "outputs": [],
   "source": [
    "from project.rebel import make_kb\n",
    "\n",
    "text = 'Punta Cana is a resort town in the municipality of Higüey, in La Altagracia Province, the easternmost province of the Dominican Republic.'\n",
    "\n",
    "kb = make_kb(text)"
   ]
  },
  {
   "cell_type": "code",
   "execution_count": 2,
   "metadata": {},
   "outputs": [
    {
     "data": {
      "text/html": [
       "<div>\n",
       "<style scoped>\n",
       "    .dataframe tbody tr th:only-of-type {\n",
       "        vertical-align: middle;\n",
       "    }\n",
       "\n",
       "    .dataframe tbody tr th {\n",
       "        vertical-align: top;\n",
       "    }\n",
       "\n",
       "    .dataframe thead th {\n",
       "        text-align: right;\n",
       "    }\n",
       "</style>\n",
       "<table border=\"1\" class=\"dataframe\">\n",
       "  <thead>\n",
       "    <tr style=\"text-align: right;\">\n",
       "      <th></th>\n",
       "      <th>head</th>\n",
       "      <th>relation</th>\n",
       "      <th>tail</th>\n",
       "    </tr>\n",
       "  </thead>\n",
       "  <tbody>\n",
       "    <tr>\n",
       "      <th>0</th>\n",
       "      <td>Higüey</td>\n",
       "      <td>country</td>\n",
       "      <td>Dominican Republic</td>\n",
       "    </tr>\n",
       "    <tr>\n",
       "      <th>1</th>\n",
       "      <td>Punta Cana</td>\n",
       "      <td>country</td>\n",
       "      <td>Dominican Republic</td>\n",
       "    </tr>\n",
       "    <tr>\n",
       "      <th>2</th>\n",
       "      <td>province</td>\n",
       "      <td>country</td>\n",
       "      <td>Dominican Republic</td>\n",
       "    </tr>\n",
       "    <tr>\n",
       "      <th>3</th>\n",
       "      <td>La Altagracia Province</td>\n",
       "      <td>instance of</td>\n",
       "      <td>province</td>\n",
       "    </tr>\n",
       "    <tr>\n",
       "      <th>4</th>\n",
       "      <td>La Altagracia Province</td>\n",
       "      <td>country</td>\n",
       "      <td>Dominican Republic</td>\n",
       "    </tr>\n",
       "    <tr>\n",
       "      <th>5</th>\n",
       "      <td>Dominican Republic</td>\n",
       "      <td>contains administrative territorial entity</td>\n",
       "      <td>La Altagracia Province</td>\n",
       "    </tr>\n",
       "    <tr>\n",
       "      <th>6</th>\n",
       "      <td>Higüey</td>\n",
       "      <td>located in the administrative territorial entity</td>\n",
       "      <td>La Altagracia Province</td>\n",
       "    </tr>\n",
       "    <tr>\n",
       "      <th>7</th>\n",
       "      <td>Punta Cana</td>\n",
       "      <td>located in the administrative territorial entity</td>\n",
       "      <td>La Altagracia Province</td>\n",
       "    </tr>\n",
       "  </tbody>\n",
       "</table>\n",
       "</div>"
      ],
      "text/plain": [
       "                     head                                          relation  \\\n",
       "0                  Higüey                                           country   \n",
       "1              Punta Cana                                           country   \n",
       "2                province                                           country   \n",
       "3  La Altagracia Province                                       instance of   \n",
       "4  La Altagracia Province                                           country   \n",
       "5      Dominican Republic        contains administrative territorial entity   \n",
       "6                  Higüey  located in the administrative territorial entity   \n",
       "7              Punta Cana  located in the administrative territorial entity   \n",
       "\n",
       "                     tail  \n",
       "0      Dominican Republic  \n",
       "1      Dominican Republic  \n",
       "2      Dominican Republic  \n",
       "3                province  \n",
       "4      Dominican Republic  \n",
       "5  La Altagracia Province  \n",
       "6  La Altagracia Province  \n",
       "7  La Altagracia Province  "
      ]
     },
     "execution_count": 2,
     "metadata": {},
     "output_type": "execute_result"
    }
   ],
   "source": [
    "import pandas as pd\n",
    "\n",
    "pd.DataFrame(kb, columns=['head', 'relation', 'tail'])"
   ]
  }
 ],
 "metadata": {
  "kernelspec": {
   "display_name": ".venv",
   "language": "python",
   "name": "python3"
  },
  "language_info": {
   "codemirror_mode": {
    "name": "ipython",
    "version": 3
   },
   "file_extension": ".py",
   "mimetype": "text/x-python",
   "name": "python",
   "nbconvert_exporter": "python",
   "pygments_lexer": "ipython3",
   "version": "3.11.11"
  }
 },
 "nbformat": 4,
 "nbformat_minor": 2
}
